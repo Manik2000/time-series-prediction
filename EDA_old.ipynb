{
 "cells": [
  {
   "cell_type": "markdown",
   "id": "6f2f08b8",
   "metadata": {},
   "source": [
    "# Imports"
   ]
  },
  {
   "cell_type": "code",
   "execution_count": 1,
   "id": "dcd421a5",
   "metadata": {},
   "outputs": [
    {
     "name": "stderr",
     "output_type": "stream",
     "text": [
      "C:\\Users\\mikol\\anaconda3\\envs\\weather\\lib\\site-packages\\statsmodels\\compat\\pandas.py:61: FutureWarning: pandas.Int64Index is deprecated and will be removed from pandas in a future version. Use pandas.Index with the appropriate dtype instead.\n",
      "  from pandas import Int64Index as NumericIndex\n"
     ]
    }
   ],
   "source": [
    "import pandas as pd\n",
    "import numpy as np\n",
    "import seaborn as sns\n",
    "import pycountry_convert as pc\n",
    "import statsmodels.formula.api as sm\n",
    "from statsmodels.tsa.seasonal import STL\n",
    "from scipy.stats import pearsonr\n",
    "from scipy.misc import derivative\n",
    "from scipy.optimize import fsolve\n",
    "import numpy as np"
   ]
  },
  {
   "cell_type": "code",
   "execution_count": 2,
   "id": "32148951",
   "metadata": {},
   "outputs": [],
   "source": [
    "sns.set_style('darkgrid')"
   ]
  },
  {
   "cell_type": "markdown",
   "id": "5bf0a0f5",
   "metadata": {},
   "source": [
    "# Data view"
   ]
  },
  {
   "cell_type": "code",
   "execution_count": 3,
   "id": "27abb3dd",
   "metadata": {},
   "outputs": [],
   "source": [
    "df = pd.read_csv('final_data.csv')"
   ]
  },
  {
   "cell_type": "code",
   "execution_count": 4,
   "id": "491ebc74",
   "metadata": {},
   "outputs": [
    {
     "data": {
      "text/html": [
       "<div>\n",
       "<style scoped>\n",
       "    .dataframe tbody tr th:only-of-type {\n",
       "        vertical-align: middle;\n",
       "    }\n",
       "\n",
       "    .dataframe tbody tr th {\n",
       "        vertical-align: top;\n",
       "    }\n",
       "\n",
       "    .dataframe thead th {\n",
       "        text-align: right;\n",
       "    }\n",
       "</style>\n",
       "<table border=\"1\" class=\"dataframe\">\n",
       "  <thead>\n",
       "    <tr style=\"text-align: right;\">\n",
       "      <th></th>\n",
       "      <th>dt</th>\n",
       "      <th>AverageTemperature</th>\n",
       "      <th>AverageTemperatureUncertainty</th>\n",
       "      <th>Country</th>\n",
       "      <th>year</th>\n",
       "    </tr>\n",
       "  </thead>\n",
       "  <tbody>\n",
       "    <tr>\n",
       "      <th>0</th>\n",
       "      <td>1900-01-01</td>\n",
       "      <td>-3.026</td>\n",
       "      <td>0.538</td>\n",
       "      <td>Åland</td>\n",
       "      <td>1900</td>\n",
       "    </tr>\n",
       "    <tr>\n",
       "      <th>1</th>\n",
       "      <td>1900-02-01</td>\n",
       "      <td>-8.063</td>\n",
       "      <td>0.657</td>\n",
       "      <td>Åland</td>\n",
       "      <td>1900</td>\n",
       "    </tr>\n",
       "    <tr>\n",
       "      <th>2</th>\n",
       "      <td>1900-03-01</td>\n",
       "      <td>-3.196</td>\n",
       "      <td>0.467</td>\n",
       "      <td>Åland</td>\n",
       "      <td>1900</td>\n",
       "    </tr>\n",
       "    <tr>\n",
       "      <th>3</th>\n",
       "      <td>1900-04-01</td>\n",
       "      <td>0.781</td>\n",
       "      <td>0.224</td>\n",
       "      <td>Åland</td>\n",
       "      <td>1900</td>\n",
       "    </tr>\n",
       "    <tr>\n",
       "      <th>4</th>\n",
       "      <td>1900-05-01</td>\n",
       "      <td>4.960</td>\n",
       "      <td>0.503</td>\n",
       "      <td>Åland</td>\n",
       "      <td>1900</td>\n",
       "    </tr>\n",
       "  </tbody>\n",
       "</table>\n",
       "</div>"
      ],
      "text/plain": [
       "           dt  AverageTemperature  AverageTemperatureUncertainty Country  year\n",
       "0  1900-01-01              -3.026                          0.538   Åland  1900\n",
       "1  1900-02-01              -8.063                          0.657   Åland  1900\n",
       "2  1900-03-01              -3.196                          0.467   Åland  1900\n",
       "3  1900-04-01               0.781                          0.224   Åland  1900\n",
       "4  1900-05-01               4.960                          0.503   Åland  1900"
      ]
     },
     "execution_count": 4,
     "metadata": {},
     "output_type": "execute_result"
    }
   ],
   "source": [
    "df.head()"
   ]
  },
  {
   "cell_type": "code",
   "execution_count": 5,
   "id": "79787fcf",
   "metadata": {},
   "outputs": [
    {
     "name": "stdout",
     "output_type": "stream",
     "text": [
      "<class 'pandas.core.frame.DataFrame'>\n",
      "RangeIndex: 326926 entries, 0 to 326925\n",
      "Data columns (total 5 columns):\n",
      " #   Column                         Non-Null Count   Dtype  \n",
      "---  ------                         --------------   -----  \n",
      " 0   dt                             326926 non-null  object \n",
      " 1   AverageTemperature             326926 non-null  float64\n",
      " 2   AverageTemperatureUncertainty  326926 non-null  float64\n",
      " 3   Country                        326926 non-null  object \n",
      " 4   year                           326926 non-null  int64  \n",
      "dtypes: float64(2), int64(1), object(2)\n",
      "memory usage: 12.5+ MB\n"
     ]
    }
   ],
   "source": [
    "df.info()"
   ]
  },
  {
   "cell_type": "code",
   "execution_count": 6,
   "id": "c84d6a21",
   "metadata": {},
   "outputs": [],
   "source": [
    "df.dt = pd.to_datetime(df.dt)"
   ]
  },
  {
   "cell_type": "code",
   "execution_count": 7,
   "id": "84695a95",
   "metadata": {},
   "outputs": [
    {
     "data": {
      "text/html": [
       "<div>\n",
       "<style scoped>\n",
       "    .dataframe tbody tr th:only-of-type {\n",
       "        vertical-align: middle;\n",
       "    }\n",
       "\n",
       "    .dataframe tbody tr th {\n",
       "        vertical-align: top;\n",
       "    }\n",
       "\n",
       "    .dataframe thead th {\n",
       "        text-align: right;\n",
       "    }\n",
       "</style>\n",
       "<table border=\"1\" class=\"dataframe\">\n",
       "  <thead>\n",
       "    <tr style=\"text-align: right;\">\n",
       "      <th></th>\n",
       "      <th>AverageTemperature</th>\n",
       "      <th>AverageTemperatureUncertainty</th>\n",
       "      <th>year</th>\n",
       "    </tr>\n",
       "  </thead>\n",
       "  <tbody>\n",
       "    <tr>\n",
       "      <th>count</th>\n",
       "      <td>326926.000000</td>\n",
       "      <td>326926.000000</td>\n",
       "      <td>326926.000000</td>\n",
       "    </tr>\n",
       "    <tr>\n",
       "      <th>mean</th>\n",
       "      <td>18.826082</td>\n",
       "      <td>0.446003</td>\n",
       "      <td>1956.126683</td>\n",
       "    </tr>\n",
       "    <tr>\n",
       "      <th>std</th>\n",
       "      <td>10.492642</td>\n",
       "      <td>0.302792</td>\n",
       "      <td>32.602336</td>\n",
       "    </tr>\n",
       "    <tr>\n",
       "      <th>min</th>\n",
       "      <td>-37.177000</td>\n",
       "      <td>0.052000</td>\n",
       "      <td>1900.000000</td>\n",
       "    </tr>\n",
       "    <tr>\n",
       "      <th>25%</th>\n",
       "      <td>13.175000</td>\n",
       "      <td>0.259000</td>\n",
       "      <td>1928.000000</td>\n",
       "    </tr>\n",
       "    <tr>\n",
       "      <th>50%</th>\n",
       "      <td>23.210000</td>\n",
       "      <td>0.364000</td>\n",
       "      <td>1956.000000</td>\n",
       "    </tr>\n",
       "    <tr>\n",
       "      <th>75%</th>\n",
       "      <td>26.348000</td>\n",
       "      <td>0.537000</td>\n",
       "      <td>1984.000000</td>\n",
       "    </tr>\n",
       "    <tr>\n",
       "      <th>max</th>\n",
       "      <td>38.842000</td>\n",
       "      <td>8.425000</td>\n",
       "      <td>2012.000000</td>\n",
       "    </tr>\n",
       "  </tbody>\n",
       "</table>\n",
       "</div>"
      ],
      "text/plain": [
       "       AverageTemperature  AverageTemperatureUncertainty           year\n",
       "count       326926.000000                  326926.000000  326926.000000\n",
       "mean            18.826082                       0.446003    1956.126683\n",
       "std             10.492642                       0.302792      32.602336\n",
       "min            -37.177000                       0.052000    1900.000000\n",
       "25%             13.175000                       0.259000    1928.000000\n",
       "50%             23.210000                       0.364000    1956.000000\n",
       "75%             26.348000                       0.537000    1984.000000\n",
       "max             38.842000                       8.425000    2012.000000"
      ]
     },
     "execution_count": 7,
     "metadata": {},
     "output_type": "execute_result"
    }
   ],
   "source": [
    "df.describe()"
   ]
  },
  {
   "cell_type": "code",
   "execution_count": 8,
   "id": "ee2e22e1",
   "metadata": {},
   "outputs": [
    {
     "data": {
      "text/plain": [
       "dt                               0\n",
       "AverageTemperature               0\n",
       "AverageTemperatureUncertainty    0\n",
       "Country                          0\n",
       "year                             0\n",
       "dtype: int64"
      ]
     },
     "execution_count": 8,
     "metadata": {},
     "output_type": "execute_result"
    }
   ],
   "source": [
    "df.isna().sum()"
   ]
  },
  {
   "cell_type": "markdown",
   "id": "5150cab1",
   "metadata": {},
   "source": [
    "# Aggregate to continents"
   ]
  },
  {
   "cell_type": "code",
   "execution_count": 9,
   "id": "dfd512cc",
   "metadata": {},
   "outputs": [],
   "source": [
    "def get_continent(country):\n",
    "    \n",
    "    try:\n",
    "        return pc.country_alpha2_to_continent_code(pc.country_name_to_country_alpha2(country))\n",
    "    except:\n",
    "        pass\n",
    "    \n",
    "df['Continent'] = df.apply(lambda row: get_continent(row.Country), axis=1)"
   ]
  },
  {
   "cell_type": "code",
   "execution_count": 10,
   "id": "e01f1c2b",
   "metadata": {},
   "outputs": [
    {
     "data": {
      "text/plain": [
       "array(['Åland', 'Africa', 'Antigua And Barbuda', 'Asia', 'Baker Island',\n",
       "       'Bonaire, Saint Eustatius And Saba', 'Bosnia And Herzegovina',\n",
       "       'Burma', \"Côte D'Ivoire\", 'Congo (Democratic Republic Of The)',\n",
       "       'Denmark (Europe)', 'Europe', 'Falkland Islands (Islas Malvinas)',\n",
       "       'Federated States Of Micronesia', 'France (Europe)',\n",
       "       'French Southern And Antarctic Lands', 'Gaza Strip',\n",
       "       'Guinea Bissau', 'Heard Island And Mcdonald Islands',\n",
       "       'Isle Of Man', 'Kingman Reef', 'Netherlands (Europe)',\n",
       "       'North America', 'Oceania', 'Palestina', 'Palmyra Atoll',\n",
       "       'Reunion', 'Saint Kitts And Nevis', 'Saint Pierre And Miquelon',\n",
       "       'Saint Vincent And The Grenadines', 'Sao Tome And Principe',\n",
       "       'Sint Maarten', 'South America',\n",
       "       'South Georgia And The South Sandwich Isla',\n",
       "       'Svalbard And Jan Mayen', 'Timor Leste', 'Trinidad And Tobago',\n",
       "       'Turks And Caicas Islands', 'United Kingdom (Europe)',\n",
       "       'Virgin Islands', 'Western Sahara'], dtype=object)"
      ]
     },
     "execution_count": 10,
     "metadata": {},
     "output_type": "execute_result"
    }
   ],
   "source": [
    "df[df.Continent.isna()].loc[:, 'Country'].unique() # to be mapped/removed"
   ]
  },
  {
   "cell_type": "code",
   "execution_count": 11,
   "id": "8ed42552",
   "metadata": {},
   "outputs": [],
   "source": [
    "#TODO instead of this there should be mapping of not detected countries to continent \n",
    "df.dropna(inplace=True)"
   ]
  },
  {
   "cell_type": "code",
   "execution_count": 12,
   "id": "81958d34",
   "metadata": {},
   "outputs": [],
   "source": [
    "def avg_continent(continent):    \n",
    "    time_series = pd.DataFrame(df[df.Continent==continent].groupby('dt').AverageTemperature.mean())\n",
    "    time_series['Continent'] = continent\n",
    "    time_series['x'] = list(range(len(time_series)))\n",
    "    return time_series\n",
    "\n",
    "agg_continents = pd.concat([avg_continent(continent) for continent in df.Continent.unique()])"
   ]
  },
  {
   "cell_type": "markdown",
   "id": "431de4b7",
   "metadata": {},
   "source": [
    "# Growth significancy"
   ]
  },
  {
   "cell_type": "code",
   "execution_count": 13,
   "id": "c8059946",
   "metadata": {},
   "outputs": [
    {
     "data": {
      "text/plain": [
       "<seaborn.axisgrid.FacetGrid at 0x1e96b05dc40>"
      ]
     },
     "execution_count": 13,
     "metadata": {},
     "output_type": "execute_result"
    },
    {
     "data": {
      "image/png": "[encoded data removed]",
      "text/plain": [
       "<Figure size 411.125x360 with 1 Axes>"
      ]
     },
     "metadata": {},
     "output_type": "display_data"
    }
   ],
   "source": [
    "g = sns.lmplot(data=agg_continents, x='x', y='AverageTemperature', hue='Continent', scatter=False, lowess=True)\n",
    "g.axes.flat[0].set_xticks(list(range(0, len(agg_continents.index.unique()), 120)))\n",
    "g.axes.flat[0].set_xticklabels(list(df.year.unique())[::10], rotation=45)\n",
    "g"
   ]
  },
  {
   "cell_type": "code",
   "execution_count": 14,
   "id": "f55e065c",
   "metadata": {
    "scrolled": true
   },
   "outputs": [
    {
     "data": {
      "text/html": [
       "<div>\n",
       "<style scoped>\n",
       "    .dataframe tbody tr th:only-of-type {\n",
       "        vertical-align: middle;\n",
       "    }\n",
       "\n",
       "    .dataframe tbody tr th {\n",
       "        vertical-align: top;\n",
       "    }\n",
       "\n",
       "    .dataframe thead th {\n",
       "        text-align: right;\n",
       "    }\n",
       "</style>\n",
       "<table border=\"1\" class=\"dataframe\">\n",
       "  <thead>\n",
       "    <tr style=\"text-align: right;\">\n",
       "      <th></th>\n",
       "      <th>Continent</th>\n",
       "      <th>AverageTemperature</th>\n",
       "    </tr>\n",
       "  </thead>\n",
       "  <tbody>\n",
       "    <tr>\n",
       "      <th>0</th>\n",
       "      <td>AF</td>\n",
       "      <td>0.000782</td>\n",
       "    </tr>\n",
       "    <tr>\n",
       "      <th>1</th>\n",
       "      <td>AS</td>\n",
       "      <td>0.000962</td>\n",
       "    </tr>\n",
       "    <tr>\n",
       "      <th>2</th>\n",
       "      <td>EU</td>\n",
       "      <td>0.000897</td>\n",
       "    </tr>\n",
       "    <tr>\n",
       "      <th>3</th>\n",
       "      <td>NA</td>\n",
       "      <td>0.000862</td>\n",
       "    </tr>\n",
       "    <tr>\n",
       "      <th>4</th>\n",
       "      <td>OC</td>\n",
       "      <td>0.000839</td>\n",
       "    </tr>\n",
       "    <tr>\n",
       "      <th>5</th>\n",
       "      <td>SA</td>\n",
       "      <td>0.000792</td>\n",
       "    </tr>\n",
       "  </tbody>\n",
       "</table>\n",
       "</div>"
      ],
      "text/plain": [
       "  Continent  AverageTemperature\n",
       "0        AF            0.000782\n",
       "1        AS            0.000962\n",
       "2        EU            0.000897\n",
       "3        NA            0.000862\n",
       "4        OC            0.000839\n",
       "5        SA            0.000792"
      ]
     },
     "execution_count": 14,
     "metadata": {},
     "output_type": "execute_result"
    }
   ],
   "source": [
    "def linear_regression(continental):\n",
    "\n",
    "    data = pd.DataFrame({'x': list(range(len(continental))), 'y': continental.values})\n",
    "    return sm.ols(data=data, formula='y ~ x').fit().params.x\n",
    "\n",
    "    \n",
    "agg_continents.groupby('Continent').AverageTemperature.agg(linear_regression).reset_index()"
   ]
  },
  {
   "cell_type": "code",
   "execution_count": 15,
   "id": "2620c2f6",
   "metadata": {},
   "outputs": [
    {
     "data": {
      "text/html": [
       "<div>\n",
       "<style scoped>\n",
       "    .dataframe tbody tr th:only-of-type {\n",
       "        vertical-align: middle;\n",
       "    }\n",
       "\n",
       "    .dataframe tbody tr th {\n",
       "        vertical-align: top;\n",
       "    }\n",
       "\n",
       "    .dataframe thead th {\n",
       "        text-align: right;\n",
       "    }\n",
       "</style>\n",
       "<table border=\"1\" class=\"dataframe\">\n",
       "  <thead>\n",
       "    <tr style=\"text-align: right;\">\n",
       "      <th></th>\n",
       "      <th>Continent</th>\n",
       "      <th>AverageTemperature</th>\n",
       "    </tr>\n",
       "  </thead>\n",
       "  <tbody>\n",
       "    <tr>\n",
       "      <th>0</th>\n",
       "      <td>AF</td>\n",
       "      <td>(0.8247250928936697, 0.0)</td>\n",
       "    </tr>\n",
       "    <tr>\n",
       "      <th>1</th>\n",
       "      <td>AS</td>\n",
       "      <td>(0.8159298770185917, 0.0)</td>\n",
       "    </tr>\n",
       "    <tr>\n",
       "      <th>2</th>\n",
       "      <td>EU</td>\n",
       "      <td>(0.6282213563675594, 8.912846633255064e-150)</td>\n",
       "    </tr>\n",
       "    <tr>\n",
       "      <th>3</th>\n",
       "      <td>NA</td>\n",
       "      <td>(0.8385378337098922, 0.0)</td>\n",
       "    </tr>\n",
       "    <tr>\n",
       "      <th>4</th>\n",
       "      <td>OC</td>\n",
       "      <td>(0.9243963774691318, 0.0)</td>\n",
       "    </tr>\n",
       "    <tr>\n",
       "      <th>5</th>\n",
       "      <td>SA</td>\n",
       "      <td>(0.8324591948859499, 0.0)</td>\n",
       "    </tr>\n",
       "  </tbody>\n",
       "</table>\n",
       "</div>"
      ],
      "text/plain": [
       "  Continent                            AverageTemperature\n",
       "0        AF                     (0.8247250928936697, 0.0)\n",
       "1        AS                     (0.8159298770185917, 0.0)\n",
       "2        EU  (0.6282213563675594, 8.912846633255064e-150)\n",
       "3        NA                     (0.8385378337098922, 0.0)\n",
       "4        OC                     (0.9243963774691318, 0.0)\n",
       "5        SA                     (0.8324591948859499, 0.0)"
      ]
     },
     "execution_count": 15,
     "metadata": {},
     "output_type": "execute_result"
    }
   ],
   "source": [
    "# consider using another test\n",
    "\n",
    "def correlation_test(continental):\n",
    "\n",
    "    # optional but gives different results - to consider\n",
    "    res = STL(continental.values, period=12, seasonal=3).fit() # value of `seasonal` can be changed\n",
    "    continental -= res.seasonal\n",
    "    data = pd.DataFrame({'x': list(range(len(continental))), 'y': continental.values})\n",
    "    return pearsonr(data.x, data.y)\n",
    "\n",
    "    \n",
    "agg_continents.groupby('Continent').AverageTemperature.agg(correlation_test).reset_index()"
   ]
  },
  {
   "cell_type": "markdown",
   "id": "bb3fe293",
   "metadata": {},
   "source": [
    "# Start of global warming"
   ]
  },
  {
   "cell_type": "code",
   "execution_count": 16,
   "id": "c47fcf08",
   "metadata": {},
   "outputs": [
    {
     "data": {
      "text/html": [
       "<div>\n",
       "<style scoped>\n",
       "    .dataframe tbody tr th:only-of-type {\n",
       "        vertical-align: middle;\n",
       "    }\n",
       "\n",
       "    .dataframe tbody tr th {\n",
       "        vertical-align: top;\n",
       "    }\n",
       "\n",
       "    .dataframe thead th {\n",
       "        text-align: right;\n",
       "    }\n",
       "</style>\n",
       "<table border=\"1\" class=\"dataframe\">\n",
       "  <thead>\n",
       "    <tr style=\"text-align: right;\">\n",
       "      <th></th>\n",
       "      <th>Continent</th>\n",
       "      <th>AverageTemperature</th>\n",
       "    </tr>\n",
       "  </thead>\n",
       "  <tbody>\n",
       "    <tr>\n",
       "      <th>0</th>\n",
       "      <td>AF</td>\n",
       "      <td>(1949-04-01 00:00:00, 1.8053325466528924e-09)</td>\n",
       "    </tr>\n",
       "    <tr>\n",
       "      <th>1</th>\n",
       "      <td>AS</td>\n",
       "      <td>(1946-07-01 00:00:00, 1.8284294118916933e-09)</td>\n",
       "    </tr>\n",
       "    <tr>\n",
       "      <th>2</th>\n",
       "      <td>EU</td>\n",
       "      <td>(1949-08-01 00:00:00, 3.4136164324250806e-09)</td>\n",
       "    </tr>\n",
       "    <tr>\n",
       "      <th>3</th>\n",
       "      <td>NA</td>\n",
       "      <td>(1951-11-01 00:00:00, 1.605573904742761e-09)</td>\n",
       "    </tr>\n",
       "    <tr>\n",
       "      <th>4</th>\n",
       "      <td>OC</td>\n",
       "      <td>(1960-01-01 00:00:00, 1.0367298030366918e-09)</td>\n",
       "    </tr>\n",
       "    <tr>\n",
       "      <th>5</th>\n",
       "      <td>SA</td>\n",
       "      <td>(1914-01-01 00:00:00, 1.7742792737625908e-10)</td>\n",
       "    </tr>\n",
       "  </tbody>\n",
       "</table>\n",
       "</div>"
      ],
      "text/plain": [
       "  Continent                             AverageTemperature\n",
       "0        AF  (1949-04-01 00:00:00, 1.8053325466528924e-09)\n",
       "1        AS  (1946-07-01 00:00:00, 1.8284294118916933e-09)\n",
       "2        EU  (1949-08-01 00:00:00, 3.4136164324250806e-09)\n",
       "3        NA   (1951-11-01 00:00:00, 1.605573904742761e-09)\n",
       "4        OC  (1960-01-01 00:00:00, 1.0367298030366918e-09)\n",
       "5        SA  (1914-01-01 00:00:00, 1.7742792737625908e-10)"
      ]
     },
     "execution_count": 16,
     "metadata": {},
     "output_type": "execute_result"
    }
   ],
   "source": [
    "def inflection_point(y, deg=3):\n",
    "    \n",
    "    x = np.arange(len(y))\n",
    "    x0 = np.mean([x[0], x[-1]])\n",
    "    coef = np.polyfit(x, y, deg)\n",
    "    construct_polynomial = lambda coef: np.vectorize(\n",
    "        lambda x: np.dot(coef, np.array([x**i for i in range(len(coef)-1, -1, -1)])))\n",
    "    return y.index[int(round(fsolve(lambda x_prime: derivative(construct_polynomial(coef), x_prime, n=2), x0)[0]))], coef[0]\n",
    "\n",
    "agg_continents.groupby('Continent').AverageTemperature.agg(inflection_point).reset_index()"
   ]
  },
  {
   "cell_type": "code",
   "execution_count": null,
   "id": "a9509cc8",
   "metadata": {},
   "outputs": [],
   "source": []
  }
 ],
 "metadata": {
  "kernelspec": {
   "display_name": "Python [conda env:weather]",
   "language": "python",
   "name": "conda-env-weather-py"
  },
  "language_info": {
   "codemirror_mode": {
    "name": "ipython",
    "version": 3
   },
   "file_extension": ".py",
   "mimetype": "text/x-python",
   "name": "python",
   "nbconvert_exporter": "python",
   "pygments_lexer": "ipython3",
   "version": "3.9.7"
  }
 },
 "nbformat": 4,
 "nbformat_minor": 5
}
