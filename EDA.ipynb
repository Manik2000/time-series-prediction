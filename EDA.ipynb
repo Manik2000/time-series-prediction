{
 "cells": [
  {
   "cell_type": "markdown",
   "id": "6f2f08b8",
   "metadata": {},
   "source": [
    "# Imports"
   ]
  },
  {
   "cell_type": "code",
   "execution_count": 1,
   "id": "3b65a2e0",
   "metadata": {},
   "outputs": [
    {
     "name": "stderr",
     "output_type": "stream",
     "text": [
      "C:\\Users\\mikol\\anaconda3\\envs\\weather\\lib\\site-packages\\statsmodels\\compat\\pandas.py:61: FutureWarning: pandas.Int64Index is deprecated and will be removed from pandas in a future version. Use pandas.Index with the appropriate dtype instead.\n",
      "  from pandas import Int64Index as NumericIndex\n"
     ]
    }
   ],
   "source": [
    "import plotly.graph_objects as go\n",
    "from Climate import Country, Continent"
   ]
  },
  {
   "cell_type": "markdown",
   "id": "d6359fad",
   "metadata": {},
   "source": [
    "# Data load"
   ]
  },
  {
   "cell_type": "code",
   "execution_count": 2,
   "id": "3a6343bc",
   "metadata": {},
   "outputs": [],
   "source": [
    "# example - to be extended\n",
    "country = Country('Poland')\n",
    "continent = Continent('EU')"
   ]
  },
  {
   "cell_type": "markdown",
   "id": "0ee384ce",
   "metadata": {},
   "source": [
    "# Data view"
   ]
  },
  {
   "cell_type": "code",
   "execution_count": 3,
   "id": "bcbc2c78",
   "metadata": {},
   "outputs": [
    {
     "data": {
      "text/html": [
       "<div>\n",
       "<style scoped>\n",
       "    .dataframe tbody tr th:only-of-type {\n",
       "        vertical-align: middle;\n",
       "    }\n",
       "\n",
       "    .dataframe tbody tr th {\n",
       "        vertical-align: top;\n",
       "    }\n",
       "\n",
       "    .dataframe thead th {\n",
       "        text-align: right;\n",
       "    }\n",
       "</style>\n",
       "<table border=\"1\" class=\"dataframe\">\n",
       "  <thead>\n",
       "    <tr style=\"text-align: right;\">\n",
       "      <th></th>\n",
       "      <th>AverageTemperature</th>\n",
       "      <th>AverageTemperatureUncertainty</th>\n",
       "      <th>year</th>\n",
       "      <th>x</th>\n",
       "    </tr>\n",
       "    <tr>\n",
       "      <th>dt</th>\n",
       "      <th></th>\n",
       "      <th></th>\n",
       "      <th></th>\n",
       "      <th></th>\n",
       "    </tr>\n",
       "  </thead>\n",
       "  <tbody>\n",
       "    <tr>\n",
       "      <th>1900-01-01</th>\n",
       "      <td>-3.182</td>\n",
       "      <td>0.798</td>\n",
       "      <td>1900</td>\n",
       "      <td>0</td>\n",
       "    </tr>\n",
       "    <tr>\n",
       "      <th>1900-02-01</th>\n",
       "      <td>-1.206</td>\n",
       "      <td>0.718</td>\n",
       "      <td>1900</td>\n",
       "      <td>1</td>\n",
       "    </tr>\n",
       "    <tr>\n",
       "      <th>1900-03-01</th>\n",
       "      <td>-0.705</td>\n",
       "      <td>0.368</td>\n",
       "      <td>1900</td>\n",
       "      <td>2</td>\n",
       "    </tr>\n",
       "    <tr>\n",
       "      <th>1900-04-01</th>\n",
       "      <td>6.234</td>\n",
       "      <td>0.325</td>\n",
       "      <td>1900</td>\n",
       "      <td>3</td>\n",
       "    </tr>\n",
       "    <tr>\n",
       "      <th>1900-05-01</th>\n",
       "      <td>11.476</td>\n",
       "      <td>0.237</td>\n",
       "      <td>1900</td>\n",
       "      <td>4</td>\n",
       "    </tr>\n",
       "    <tr>\n",
       "      <th>1900-06-01</th>\n",
       "      <td>16.634</td>\n",
       "      <td>0.306</td>\n",
       "      <td>1900</td>\n",
       "      <td>5</td>\n",
       "    </tr>\n",
       "    <tr>\n",
       "      <th>1900-07-01</th>\n",
       "      <td>19.277</td>\n",
       "      <td>0.523</td>\n",
       "      <td>1900</td>\n",
       "      <td>6</td>\n",
       "    </tr>\n",
       "    <tr>\n",
       "      <th>1900-08-01</th>\n",
       "      <td>18.096</td>\n",
       "      <td>0.484</td>\n",
       "      <td>1900</td>\n",
       "      <td>7</td>\n",
       "    </tr>\n",
       "    <tr>\n",
       "      <th>1900-09-01</th>\n",
       "      <td>13.594</td>\n",
       "      <td>0.469</td>\n",
       "      <td>1900</td>\n",
       "      <td>8</td>\n",
       "    </tr>\n",
       "    <tr>\n",
       "      <th>1900-10-01</th>\n",
       "      <td>8.429</td>\n",
       "      <td>0.414</td>\n",
       "      <td>1900</td>\n",
       "      <td>9</td>\n",
       "    </tr>\n",
       "  </tbody>\n",
       "</table>\n",
       "</div>"
      ],
      "text/plain": [
       "            AverageTemperature  AverageTemperatureUncertainty  year  x\n",
       "dt                                                                    \n",
       "1900-01-01              -3.182                          0.798  1900  0\n",
       "1900-02-01              -1.206                          0.718  1900  1\n",
       "1900-03-01              -0.705                          0.368  1900  2\n",
       "1900-04-01               6.234                          0.325  1900  3\n",
       "1900-05-01              11.476                          0.237  1900  4\n",
       "1900-06-01              16.634                          0.306  1900  5\n",
       "1900-07-01              19.277                          0.523  1900  6\n",
       "1900-08-01              18.096                          0.484  1900  7\n",
       "1900-09-01              13.594                          0.469  1900  8\n",
       "1900-10-01               8.429                          0.414  1900  9"
      ]
     },
     "execution_count": 3,
     "metadata": {},
     "output_type": "execute_result"
    }
   ],
   "source": [
    "country.view()"
   ]
  },
  {
   "cell_type": "code",
   "execution_count": 4,
   "id": "794fa651",
   "metadata": {},
   "outputs": [
    {
     "data": {
      "text/html": [
       "<div>\n",
       "<style scoped>\n",
       "    .dataframe tbody tr th:only-of-type {\n",
       "        vertical-align: middle;\n",
       "    }\n",
       "\n",
       "    .dataframe tbody tr th {\n",
       "        vertical-align: top;\n",
       "    }\n",
       "\n",
       "    .dataframe thead th {\n",
       "        text-align: right;\n",
       "    }\n",
       "</style>\n",
       "<table border=\"1\" class=\"dataframe\">\n",
       "  <thead>\n",
       "    <tr style=\"text-align: right;\">\n",
       "      <th></th>\n",
       "      <th>AverageTemperature</th>\n",
       "      <th>AverageTemperatureUncertainty</th>\n",
       "      <th>year</th>\n",
       "      <th>x</th>\n",
       "    </tr>\n",
       "    <tr>\n",
       "      <th>dt</th>\n",
       "      <th></th>\n",
       "      <th></th>\n",
       "      <th></th>\n",
       "      <th></th>\n",
       "    </tr>\n",
       "  </thead>\n",
       "  <tbody>\n",
       "    <tr>\n",
       "      <th>1900-01-01</th>\n",
       "      <td>-0.689578</td>\n",
       "      <td>0.787711</td>\n",
       "      <td>1900</td>\n",
       "      <td>0</td>\n",
       "    </tr>\n",
       "    <tr>\n",
       "      <th>1900-02-01</th>\n",
       "      <td>0.611600</td>\n",
       "      <td>0.798556</td>\n",
       "      <td>1900</td>\n",
       "      <td>1</td>\n",
       "    </tr>\n",
       "    <tr>\n",
       "      <th>1900-03-01</th>\n",
       "      <td>0.838467</td>\n",
       "      <td>0.554089</td>\n",
       "      <td>1900</td>\n",
       "      <td>2</td>\n",
       "    </tr>\n",
       "    <tr>\n",
       "      <th>1900-04-01</th>\n",
       "      <td>6.067178</td>\n",
       "      <td>0.505600</td>\n",
       "      <td>1900</td>\n",
       "      <td>3</td>\n",
       "    </tr>\n",
       "    <tr>\n",
       "      <th>1900-05-01</th>\n",
       "      <td>10.809933</td>\n",
       "      <td>0.396956</td>\n",
       "      <td>1900</td>\n",
       "      <td>4</td>\n",
       "    </tr>\n",
       "    <tr>\n",
       "      <th>1900-06-01</th>\n",
       "      <td>15.637356</td>\n",
       "      <td>0.506133</td>\n",
       "      <td>1900</td>\n",
       "      <td>5</td>\n",
       "    </tr>\n",
       "    <tr>\n",
       "      <th>1900-07-01</th>\n",
       "      <td>18.208889</td>\n",
       "      <td>0.665644</td>\n",
       "      <td>1900</td>\n",
       "      <td>6</td>\n",
       "    </tr>\n",
       "    <tr>\n",
       "      <th>1900-08-01</th>\n",
       "      <td>16.920333</td>\n",
       "      <td>0.497978</td>\n",
       "      <td>1900</td>\n",
       "      <td>7</td>\n",
       "    </tr>\n",
       "    <tr>\n",
       "      <th>1900-09-01</th>\n",
       "      <td>13.647933</td>\n",
       "      <td>0.528489</td>\n",
       "      <td>1900</td>\n",
       "      <td>8</td>\n",
       "    </tr>\n",
       "    <tr>\n",
       "      <th>1900-10-01</th>\n",
       "      <td>9.242778</td>\n",
       "      <td>0.603644</td>\n",
       "      <td>1900</td>\n",
       "      <td>9</td>\n",
       "    </tr>\n",
       "  </tbody>\n",
       "</table>\n",
       "</div>"
      ],
      "text/plain": [
       "            AverageTemperature  AverageTemperatureUncertainty  year  x\n",
       "dt                                                                    \n",
       "1900-01-01           -0.689578                       0.787711  1900  0\n",
       "1900-02-01            0.611600                       0.798556  1900  1\n",
       "1900-03-01            0.838467                       0.554089  1900  2\n",
       "1900-04-01            6.067178                       0.505600  1900  3\n",
       "1900-05-01           10.809933                       0.396956  1900  4\n",
       "1900-06-01           15.637356                       0.506133  1900  5\n",
       "1900-07-01           18.208889                       0.665644  1900  6\n",
       "1900-08-01           16.920333                       0.497978  1900  7\n",
       "1900-09-01           13.647933                       0.528489  1900  8\n",
       "1900-10-01            9.242778                       0.603644  1900  9"
      ]
     },
     "execution_count": 4,
     "metadata": {},
     "output_type": "execute_result"
    }
   ],
   "source": [
    "continent.view()"
   ]
  },
  {
   "cell_type": "markdown",
   "id": "fc29e12c",
   "metadata": {},
   "source": [
    "# Analysis"
   ]
  },
  {
   "cell_type": "code",
   "execution_count": 5,
   "id": "573dcbe8",
   "metadata": {},
   "outputs": [
    {
     "data": {
      "text/plain": [
       "(0.048724672173817665, 0.07287010333346494)"
      ]
     },
     "execution_count": 5,
     "metadata": {},
     "output_type": "execute_result"
    }
   ],
   "source": [
    "country.correlation()"
   ]
  },
  {
   "cell_type": "code",
   "execution_count": 6,
   "id": "4fdd419c",
   "metadata": {},
   "outputs": [
    {
     "data": {
      "text/plain": [
       "0.0009946604763456652"
      ]
     },
     "execution_count": 6,
     "metadata": {},
     "output_type": "execute_result"
    }
   ],
   "source": [
    "country.regression_coef()"
   ]
  },
  {
   "cell_type": "code",
   "execution_count": 7,
   "id": "09482c1d",
   "metadata": {},
   "outputs": [
    {
     "data": {
      "text/plain": [
       "(Timestamp('1942-02-01 00:00:00', freq='MS'), 2.307472696310992e-09)"
      ]
     },
     "execution_count": 7,
     "metadata": {},
     "output_type": "execute_result"
    }
   ],
   "source": [
    "country.inflection_point()"
   ]
  },
  {
   "cell_type": "code",
   "execution_count": 8,
   "id": "768a189a",
   "metadata": {},
   "outputs": [
    {
     "data": {
      "text/plain": [
       "(0.051231129148097965, 0.059291045854615844)"
      ]
     },
     "execution_count": 8,
     "metadata": {},
     "output_type": "execute_result"
    }
   ],
   "source": [
    "continent.correlation()"
   ]
  },
  {
   "cell_type": "code",
   "execution_count": 9,
   "id": "c9a155a5",
   "metadata": {},
   "outputs": [
    {
     "data": {
      "text/plain": [
       "0.0008972341390417447"
      ]
     },
     "execution_count": 9,
     "metadata": {},
     "output_type": "execute_result"
    }
   ],
   "source": [
    "continent.regression_coef()"
   ]
  },
  {
   "cell_type": "code",
   "execution_count": 10,
   "id": "cd7dac95",
   "metadata": {},
   "outputs": [
    {
     "data": {
      "text/plain": [
       "(Timestamp('1949-08-01 00:00:00', freq='MS'), 3.4136164324250806e-09)"
      ]
     },
     "execution_count": 10,
     "metadata": {},
     "output_type": "execute_result"
    }
   ],
   "source": [
    "continent.inflection_point()"
   ]
  },
  {
   "cell_type": "code",
   "execution_count": 11,
   "id": "4ab4e9ba",
   "metadata": {},
   "outputs": [
    {
     "ename": "AttributeError",
     "evalue": "'tuple' object has no attribute 'name'",
     "output_type": "error",
     "traceback": [
      "\u001b[1;31m---------------------------------------------------------------------------\u001b[0m",
      "\u001b[1;31mAttributeError\u001b[0m                            Traceback (most recent call last)",
      "\u001b[1;32m~\\AppData\\Local\\Temp/ipykernel_20024/3302228378.py\u001b[0m in \u001b[0;36m<module>\u001b[1;34m\u001b[0m\n\u001b[0;32m      1\u001b[0m \u001b[0mfig\u001b[0m \u001b[1;33m=\u001b[0m \u001b[0mgo\u001b[0m\u001b[1;33m.\u001b[0m\u001b[0mFigure\u001b[0m\u001b[1;33m(\u001b[0m\u001b[1;33m)\u001b[0m\u001b[1;33m\u001b[0m\u001b[1;33m\u001b[0m\u001b[0m\n\u001b[0;32m      2\u001b[0m \u001b[1;33m\u001b[0m\u001b[0m\n\u001b[1;32m----> 3\u001b[1;33m \u001b[0mcountry\u001b[0m\u001b[1;33m.\u001b[0m\u001b[0mplot\u001b[0m\u001b[1;33m(\u001b[0m\u001b[0mfig\u001b[0m\u001b[1;33m)\u001b[0m\u001b[1;33m\u001b[0m\u001b[1;33m\u001b[0m\u001b[0m\n\u001b[0m\u001b[0;32m      4\u001b[0m \u001b[0mcontinent\u001b[0m\u001b[1;33m.\u001b[0m\u001b[0mplot\u001b[0m\u001b[1;33m(\u001b[0m\u001b[0mfig\u001b[0m\u001b[1;33m)\u001b[0m\u001b[1;33m\u001b[0m\u001b[1;33m\u001b[0m\u001b[0m\n\u001b[0;32m      5\u001b[0m \u001b[1;33m\u001b[0m\u001b[0m\n",
      "\u001b[1;32m~\\time_series_prediction\\Climate.py\u001b[0m in \u001b[0;36mplot\u001b[1;34m(self, fig, start, end, year_step, decomposed, seasonal)\u001b[0m\n\u001b[0;32m     89\u001b[0m \u001b[1;33m\u001b[0m\u001b[0m\n\u001b[0;32m     90\u001b[0m         \u001b[0mline\u001b[0m \u001b[1;33m=\u001b[0m \u001b[0mpx\u001b[0m\u001b[1;33m.\u001b[0m\u001b[0mline\u001b[0m\u001b[1;33m(\u001b[0m\u001b[0mdata\u001b[0m\u001b[1;33m,\u001b[0m \u001b[0mx\u001b[0m\u001b[1;33m=\u001b[0m\u001b[1;34m'x'\u001b[0m\u001b[1;33m,\u001b[0m \u001b[0my\u001b[0m\u001b[1;33m=\u001b[0m\u001b[1;34m'AverageTemperature'\u001b[0m\u001b[1;33m)\u001b[0m\u001b[1;33m.\u001b[0m\u001b[0mdata\u001b[0m\u001b[1;33m[\u001b[0m\u001b[1;33m-\u001b[0m\u001b[1;36m1\u001b[0m\u001b[1;33m:\u001b[0m\u001b[1;33m]\u001b[0m\u001b[1;33m\u001b[0m\u001b[1;33m\u001b[0m\u001b[0m\n\u001b[1;32m---> 91\u001b[1;33m         \u001b[0mline\u001b[0m\u001b[1;33m.\u001b[0m\u001b[0mname\u001b[0m \u001b[1;33m=\u001b[0m \u001b[0mself\u001b[0m\u001b[1;33m.\u001b[0m\u001b[0m_name\u001b[0m\u001b[1;33m\u001b[0m\u001b[1;33m\u001b[0m\u001b[0m\n\u001b[0m\u001b[0;32m     92\u001b[0m         \u001b[0mline\u001b[0m\u001b[1;33m.\u001b[0m\u001b[0mshowlegend\u001b[0m \u001b[1;33m=\u001b[0m \u001b[1;32mTrue\u001b[0m\u001b[1;33m\u001b[0m\u001b[1;33m\u001b[0m\u001b[0m\n\u001b[0;32m     93\u001b[0m         \u001b[0mline\u001b[0m\u001b[1;33m.\u001b[0m\u001b[0mline\u001b[0m\u001b[1;33m[\u001b[0m\u001b[1;34m'color'\u001b[0m\u001b[1;33m]\u001b[0m \u001b[1;33m=\u001b[0m \u001b[0mCOLORS\u001b[0m\u001b[1;33m[\u001b[0m\u001b[0mCURRENT\u001b[0m \u001b[1;33m%\u001b[0m \u001b[0mlen\u001b[0m\u001b[1;33m(\u001b[0m\u001b[0mCOLORS\u001b[0m\u001b[1;33m)\u001b[0m\u001b[1;33m]\u001b[0m\u001b[1;33m\u001b[0m\u001b[1;33m\u001b[0m\u001b[0m\n",
      "\u001b[1;31mAttributeError\u001b[0m: 'tuple' object has no attribute 'name'"
     ]
    }
   ],
   "source": [
    "fig = go.Figure()\n",
    "\n",
    "country.plot(fig)\n",
    "continent.plot(fig)\n",
    "\n",
    "fig"
   ]
  },
  {
   "cell_type": "code",
   "execution_count": null,
   "id": "d679c7bc",
   "metadata": {},
   "outputs": [],
   "source": [
    "fig = go.Figure()\n",
    "\n",
    "country.plot_regression(fig)\n",
    "continent.plot_regression(fig)\n",
    "\n",
    "fig"
   ]
  },
  {
   "cell_type": "code",
   "execution_count": null,
   "id": "9bbe9fc5",
   "metadata": {},
   "outputs": [],
   "source": []
  }
 ],
 "metadata": {
  "kernelspec": {
   "display_name": "Python [conda env:weather]",
   "language": "python",
   "name": "conda-env-weather-py"
  },
  "language_info": {
   "codemirror_mode": {
    "name": "ipython",
    "version": 3
   },
   "file_extension": ".py",
   "mimetype": "text/x-python",
   "name": "python",
   "nbconvert_exporter": "python",
   "pygments_lexer": "ipython3",
   "version": "3.9.7"
  }
 },
 "nbformat": 4,
 "nbformat_minor": 5
}
