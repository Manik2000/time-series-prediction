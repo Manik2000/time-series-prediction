{
 "cells": [
  {
   "cell_type": "code",
   "execution_count": 1,
   "metadata": {
    "cell_id": "67625224-3926-41e3-9792-a48763645ad4",
    "deepnote_cell_type": "code",
    "deepnote_output_heights": [
     611
    ],
    "deepnote_to_be_reexecuted": false,
    "execution_millis": 1310,
    "execution_start": 1644886298599,
    "source_hash": "943e874f",
    "tags": []
   },
   "outputs": [
    {
     "name": "stderr",
     "output_type": "stream",
     "text": [
      "C:\\Users\\mikol\\anaconda3\\envs\\weather\\lib\\site-packages\\statsmodels\\compat\\pandas.py:61: FutureWarning: pandas.Int64Index is deprecated and will be removed from pandas in a future version. Use pandas.Index with the appropriate dtype instead.\n",
      "  from pandas import Int64Index as NumericIndex\n"
     ]
    }
   ],
   "source": [
    "from LSTM import CountryLSTM\n",
    "from Climate import Country\n",
    "import pandas as pd"
   ]
  },
  {
   "cell_type": "code",
   "execution_count": 48,
   "metadata": {
    "cell_id": "8dc6b76e-1205-47b9-a644-50dc7900505c",
    "deepnote_cell_type": "code",
    "deepnote_to_be_reexecuted": false,
    "execution_millis": 41,
    "execution_start": 1644886299913,
    "source_hash": "b27ab280",
    "tags": []
   },
   "outputs": [],
   "source": [
    "lag = 12 # two years\n",
    "horizon = 120 # ten years\n",
    "iters = 1\n",
    "hidden_size = 30"
   ]
  },
  {
   "cell_type": "code",
   "execution_count": 49,
   "metadata": {},
   "outputs": [],
   "source": [
    "continent_epochs = 10\n",
    "country_epochs = 5"
   ]
  },
  {
   "cell_type": "code",
   "execution_count": 59,
   "metadata": {},
   "outputs": [],
   "source": [
    "data = pd.read_csv('final_data.csv')\n",
    "countries = data.Country.unique()"
   ]
  },
  {
   "cell_type": "code",
   "execution_count": 60,
   "metadata": {
    "scrolled": false
   },
   "outputs": [],
   "source": [
    "import os\n",
    "\n",
    "for country in countries:\n",
    "    if not os.path.exists(os.path.join(\n",
    "                os.getcwd(), 'models', 'LSTM', 'country', f'{country}.ckpt')):\n",
    "        try:\n",
    "            country_model = Country(country)\n",
    "        except ValueError:\n",
    "            continue\n",
    "        \n",
    "        try:\n",
    "            country_model.train(CountryLSTM, lag=lag, horizon=horizon, hidden_size=hidden_size, epochs_main=continent_epochs, epochs=country_epochs, iters=iters)\n",
    "        except:\n",
    "            try:\n",
    "                os.remove(os.path.join(\n",
    "                os.getcwd(), 'models', 'LSTM', 'country', f'{country}.ckpt'))\n",
    "            except FileNotFoundError:\n",
    "                pass\n",
    "            with open(os.path.join(\n",
    "                os.getcwd(), 'models', 'LSTM', 'country', 'warns.txt'), 'a') as warns:\n",
    "                warns.write(f'{country}\\n')"
   ]
  },
  {
   "cell_type": "code",
   "execution_count": null,
   "metadata": {},
   "outputs": [
    {
     "name": "stdout",
     "output_type": "stream",
     "text": [
      "\r",
      "Epoch 1:  46%|███████████████████████                           | 87/189 [00:30<00:35,  2.84it/s, loss=36.4, v_num=140]"
     ]
    }
   ],
   "source": [
    "for country in countries:\n",
    "    try:\n",
    "        country_model = Country(country)\n",
    "    except ValueError:\n",
    "        continue\n",
    "    y = country_model.predict(CountryLSTM, 120)\n",
    "    fig = go.Figure()\n",
    "    fig.add_scatter(y=y.AverageTemperature, mode='lines')"
   ]
  },
  {
   "cell_type": "code",
   "execution_count": null,
   "metadata": {},
   "outputs": [],
   "source": []
  }
 ],
 "metadata": {
  "deepnote": {
   "is_reactive": false
  },
  "deepnote_execution_queue": [],
  "deepnote_notebook_id": "24ce18de-4bd2-4ab8-b4f3-be931ea4a2ba",
  "kernelspec": {
   "display_name": "Python [conda env:weather]",
   "language": "python",
   "name": "conda-env-weather-py"
  },
  "language_info": {
   "codemirror_mode": {
    "name": "ipython",
    "version": 3
   },
   "file_extension": ".py",
   "mimetype": "text/x-python",
   "name": "python",
   "nbconvert_exporter": "python",
   "pygments_lexer": "ipython3",
   "version": "3.9.7"
  }
 },
 "nbformat": 4,
 "nbformat_minor": 2
}
