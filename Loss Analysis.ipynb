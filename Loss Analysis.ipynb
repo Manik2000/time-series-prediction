{
 "cells": [
  {
   "cell_type": "code",
   "execution_count": 2,
   "id": "c10dfb5d",
   "metadata": {},
   "outputs": [],
   "source": [
    "import os\n",
    "import pandas as pd\n",
    "import numpy as np\n",
    "import plotly.express as px"
   ]
  },
  {
   "cell_type": "code",
   "execution_count": 7,
   "id": "5a952f0b",
   "metadata": {},
   "outputs": [],
   "source": [
    "path = os.path.join(os.getcwd(), \"loss\", \"test\", \"country\")\n",
    "models = ['LSTM', 'Baseline'] # to add later"
   ]
  },
  {
   "cell_type": "code",
   "execution_count": 9,
   "id": "a1e4a126",
   "metadata": {},
   "outputs": [],
   "source": [
    "def read_loss(model):\n",
    "    \n",
    "    df = pd.read_csv(os.path.join(path, f'{model}.csv'))\n",
    "    df['Model'] = model\n",
    "    \n",
    "    return df"
   ]
  },
  {
   "cell_type": "code",
   "execution_count": 11,
   "id": "664ac6ed",
   "metadata": {},
   "outputs": [],
   "source": [
    "merge_loss = lambda models: pd.concat([read_loss(model) for model in models])"
   ]
  },
  {
   "cell_type": "code",
   "execution_count": 12,
   "id": "82e1a1ee",
   "metadata": {},
   "outputs": [],
   "source": [
    "df = merge_loss(models)"
   ]
  },
  {
   "cell_type": "code",
   "execution_count": 13,
   "id": "580eb515",
   "metadata": {},
   "outputs": [
    {
     "data": {
      "application/vnd.plotly.v1+json": {
       "config": {
        "plotlyServerURL": "https://plot.ly"
       },
       "data": [
        {
         "alignmentgroup": "True",
         "hovertemplate": "Continent=Asia<br>Model=%{x}<br>Loss=%{y}<extra></extra>",
         "legendgroup": "Asia",
         "marker": {
          "color": "#636efa"
         },
         "name": "Asia",
         "notched": false,
         "offsetgroup": "Asia",
         "orientation": "v",
         "showlegend": true,
         "type": "box",
         "x": [
          "LSTM",
          "LSTM",
          "LSTM",
          "LSTM",
          "LSTM",
          "LSTM",
          "LSTM",
          "LSTM",
          "LSTM",
          "LSTM",
          "LSTM",
          "LSTM",
          "LSTM",
          "LSTM",
          "LSTM",
          "LSTM",
          "LSTM",
          "LSTM",
          "LSTM",
          "LSTM",
          "LSTM",
          "LSTM",
          "LSTM",
          "LSTM",
          "LSTM",
          "LSTM",
          "LSTM",
          "LSTM",
          "LSTM",
          "LSTM",
          "LSTM",
          "LSTM",
          "LSTM",
          "LSTM",
          "LSTM",
          "LSTM",
          "LSTM",
          "LSTM",
          "LSTM",
          "LSTM",
          "LSTM",
          "LSTM",
          "LSTM",
          "LSTM",
          "LSTM",
          "LSTM",
          "LSTM",
          "Baseline",
          "Baseline",
          "Baseline",
          "Baseline",
          "Baseline",
          "Baseline",
          "Baseline",
          "Baseline",
          "Baseline",
          "Baseline",
          "Baseline",
          "Baseline",
          "Baseline",
          "Baseline",
          "Baseline",
          "Baseline",
          "Baseline",
          "Baseline",
          "Baseline",
          "Baseline",
          "Baseline",
          "Baseline",
          "Baseline",
          "Baseline",
          "Baseline",
          "Baseline",
          "Baseline",
          "Baseline",
          "Baseline",
          "Baseline",
          "Baseline",
          "Baseline",
          "Baseline",
          "Baseline",
          "Baseline",
          "Baseline",
          "Baseline",
          "Baseline",
          "Baseline",
          "Baseline"
         ],
         "x0": " ",
         "xaxis": "x",
         "y": [
          3.233552239,
          4.447586957,
          2.974222951,
          1.040130508,
          1.05536383,
          2.316753012,
          1.263269318,
          0.422656627,
          1.745703226,
          4.123815942,
          1.256201538,
          1.010457627,
          3.197447059,
          3.058983333,
          2.089509804,
          1.816842188,
          2.608782353,
          8.194586869,
          3.226749231,
          4.042074667,
          1.135217021,
          1.357153846,
          8.8735125,
          5.051875758,
          3.293869149,
          1.624863265,
          2.76397541,
          1.860490164,
          0.79256988,
          1.994603125,
          2.69657451,
          1.30735,
          3.210873973,
          2.448052128,
          2.916557143,
          5.774688889,
          2.265181967,
          1.061655422,
          1.429245455,
          4.047966667,
          0.535653012,
          2.263288235,
          1.682552542,
          1.965178689,
          0.765813253,
          6.277076667,
          1.897738983,
          3.8954312985876896,
          7.013151618691186,
          7.512085489505155,
          1.0619418395006155,
          0.6945448134908426,
          0.885136908372947,
          0.5421087043610435,
          1.1494407696818738,
          0.2923594852903342,
          2.3253439014351343,
          7.489679246883761,
          1.354847523556394,
          0.4844475817745208,
          0.1191207755256983,
          2.237279836695302,
          2.479416770434269,
          2.521838753049756,
          2.7504264852056743,
          2.8558835914719927,
          11.427898192715856,
          1.5845728728162096,
          6.491557234855761,
          2.9079033462853534,
          0.1508430528019166,
          6.241528750731979,
          0.8011507243385979,
          0.7228257326246492,
          1.5406759784644948,
          0.1676045222201677,
          0.9110054655734394,
          0.7022013462611462,
          0.1724103860049323,
          0.1594906722652387,
          5.611191289504343,
          0.6863933020564439,
          5.347786020547758,
          9.572075994713654,
          0.6960298057950633,
          10.818383717337328,
          0.6066259381845363
         ],
         "y0": " ",
         "yaxis": "y"
        },
        {
         "alignmentgroup": "True",
         "hovertemplate": "Continent=Europe<br>Model=%{x}<br>Loss=%{y}<extra></extra>",
         "legendgroup": "Europe",
         "marker": {
          "color": "#EF553B"
         },
         "name": "Europe",
         "notched": false,
         "offsetgroup": "Europe",
         "orientation": "v",
         "showlegend": true,
         "type": "box",
         "x": [
          "LSTM",
          "LSTM",
          "LSTM",
          "LSTM",
          "LSTM",
          "LSTM",
          "LSTM",
          "LSTM",
          "LSTM",
          "LSTM",
          "LSTM",
          "LSTM",
          "LSTM",
          "LSTM",
          "LSTM",
          "LSTM",
          "LSTM",
          "LSTM",
          "LSTM",
          "LSTM",
          "LSTM",
          "LSTM",
          "LSTM",
          "LSTM",
          "LSTM",
          "LSTM",
          "LSTM",
          "LSTM",
          "LSTM",
          "LSTM",
          "LSTM",
          "LSTM",
          "LSTM",
          "LSTM",
          "LSTM",
          "LSTM",
          "LSTM",
          "LSTM",
          "LSTM",
          "LSTM",
          "LSTM",
          "LSTM",
          "LSTM",
          "LSTM",
          "LSTM",
          "Baseline",
          "Baseline",
          "Baseline",
          "Baseline",
          "Baseline",
          "Baseline",
          "Baseline",
          "Baseline",
          "Baseline",
          "Baseline",
          "Baseline",
          "Baseline",
          "Baseline",
          "Baseline",
          "Baseline",
          "Baseline",
          "Baseline",
          "Baseline",
          "Baseline",
          "Baseline",
          "Baseline",
          "Baseline",
          "Baseline",
          "Baseline",
          "Baseline",
          "Baseline",
          "Baseline",
          "Baseline",
          "Baseline",
          "Baseline",
          "Baseline",
          "Baseline",
          "Baseline",
          "Baseline",
          "Baseline",
          "Baseline",
          "Baseline",
          "Baseline",
          "Baseline",
          "Baseline",
          "Baseline",
          "Baseline"
         ],
         "x0": " ",
         "xaxis": "x",
         "y": [
          3.444214444,
          3.359392222,
          4.565024444,
          7.097494444,
          4.515187778,
          4.383267778,
          4.913212222,
          4.209734444,
          1.87164,
          6.711701111,
          4.583254444,
          3.067511111,
          2.367126667,
          4.860483333,
          2.487313333,
          1.858761111,
          3.246538889,
          2.421323333,
          6.871971111,
          4.817693333,
          6.782147778,
          4.362728889,
          4.31076,
          5.895995556,
          3.422195556,
          3.950486667,
          4.211251111,
          3.513511111,
          5.544132222,
          2.165692941,
          4.885397778,
          5.825111111,
          4.712223333,
          4.77803,
          2.705683333,
          4.302486667,
          6.106832222,
          4.105827778,
          6.826953333,
          3.58064,
          2.174636471,
          3.740678889,
          4.491044444,
          5.059076667,
          2.331315556,
          4.397558308074823,
          4.412680098814197,
          6.297153762437479,
          11.16752341490068,
          4.688870903644145,
          6.80374280459987,
          6.5681805763088645,
          4.622215776418517,
          13.643410984726108,
          2.431214949343976,
          19.712224940514467,
          5.673932960906379,
          5.492664135499153,
          4.105089011200558,
          2.444433991916218,
          7.497740790687556,
          4.33799615515979,
          1.6084707227421309,
          4.1397462526922215,
          2.444433991916218,
          11.68905664653383,
          7.485949980350876,
          10.499548310160618,
          5.981483959102659,
          1.9436253254092717,
          4.637691242638156,
          5.280601151132087,
          3.898021246876044,
          5.920756264855468,
          7.091493603849581,
          1.857495419577951,
          7.9612195135585555,
          4.855248038496522,
          5.271264900682383,
          6.858747472149372,
          6.046485276654599,
          6.651246194911269,
          2.5693730594523525,
          9.496954610973432,
          7.304575888628936,
          11.210420798303378,
          2.1475680624920046
         ],
         "y0": " ",
         "yaxis": "y"
        },
        {
         "alignmentgroup": "True",
         "hovertemplate": "Continent=Oceania<br>Model=%{x}<br>Loss=%{y}<extra></extra>",
         "legendgroup": "Oceania",
         "marker": {
          "color": "#00cc96"
         },
         "name": "Oceania",
         "notched": false,
         "offsetgroup": "Oceania",
         "orientation": "v",
         "showlegend": true,
         "type": "box",
         "x": [
          "LSTM",
          "LSTM",
          "LSTM",
          "LSTM",
          "LSTM",
          "LSTM",
          "LSTM",
          "LSTM",
          "LSTM",
          "LSTM",
          "LSTM",
          "LSTM",
          "LSTM",
          "Baseline",
          "Baseline",
          "Baseline",
          "Baseline",
          "Baseline",
          "Baseline",
          "Baseline",
          "Baseline",
          "Baseline",
          "Baseline",
          "Baseline",
          "Baseline",
          "Baseline"
         ],
         "x0": " ",
         "xaxis": "x",
         "y": [
          0.371775758,
          1.362612,
          0.480866667,
          0.600438095,
          0.887223077,
          0.711062791,
          0.834510204,
          0.538648485,
          0.215873333,
          0.358153333,
          0.355593939,
          0.481133333,
          0.648951515,
          0.4807866093697523,
          0.8919409302886441,
          0.5807544868380204,
          0.2193965139352753,
          0.3352696158484019,
          0.5312266042214372,
          1.0986480488676762,
          0.7000957984949783,
          0.0641812832003088,
          0.1644826762319119,
          0.4549260178235015,
          0.1204092096648592,
          0.6649377024137332
         ],
         "y0": " ",
         "yaxis": "y"
        },
        {
         "alignmentgroup": "True",
         "hovertemplate": "Continent=Africa<br>Model=%{x}<br>Loss=%{y}<extra></extra>",
         "legendgroup": "Africa",
         "marker": {
          "color": "#ab63fa"
         },
         "name": "Africa",
         "notched": false,
         "offsetgroup": "Africa",
         "orientation": "v",
         "showlegend": true,
         "type": "box",
         "x": [
          "LSTM",
          "LSTM",
          "LSTM",
          "LSTM",
          "LSTM",
          "LSTM",
          "LSTM",
          "LSTM",
          "LSTM",
          "LSTM",
          "LSTM",
          "LSTM",
          "LSTM",
          "LSTM",
          "LSTM",
          "LSTM",
          "LSTM",
          "LSTM",
          "LSTM",
          "LSTM",
          "LSTM",
          "LSTM",
          "LSTM",
          "LSTM",
          "LSTM",
          "LSTM",
          "LSTM",
          "LSTM",
          "LSTM",
          "LSTM",
          "LSTM",
          "LSTM",
          "LSTM",
          "LSTM",
          "LSTM",
          "LSTM",
          "LSTM",
          "LSTM",
          "LSTM",
          "LSTM",
          "LSTM",
          "LSTM",
          "LSTM",
          "LSTM",
          "LSTM",
          "LSTM",
          "LSTM",
          "LSTM",
          "LSTM",
          "LSTM",
          "Baseline",
          "Baseline",
          "Baseline",
          "Baseline",
          "Baseline",
          "Baseline",
          "Baseline",
          "Baseline",
          "Baseline",
          "Baseline",
          "Baseline",
          "Baseline",
          "Baseline",
          "Baseline",
          "Baseline",
          "Baseline",
          "Baseline",
          "Baseline",
          "Baseline",
          "Baseline",
          "Baseline",
          "Baseline",
          "Baseline",
          "Baseline",
          "Baseline",
          "Baseline",
          "Baseline",
          "Baseline",
          "Baseline",
          "Baseline",
          "Baseline",
          "Baseline",
          "Baseline",
          "Baseline",
          "Baseline",
          "Baseline",
          "Baseline",
          "Baseline",
          "Baseline",
          "Baseline",
          "Baseline",
          "Baseline",
          "Baseline",
          "Baseline",
          "Baseline",
          "Baseline",
          "Baseline"
         ],
         "x0": " ",
         "xaxis": "x",
         "y": [
          1.228668182,
          1.294983333,
          2.1499,
          0.631532075,
          0.760865217,
          1.067472222,
          1.022367391,
          1.538084783,
          1.051272308,
          0.586869811,
          1.077516667,
          0.595715217,
          1.028622222,
          0.531230435,
          0.773701852,
          1.109401852,
          1.007281481,
          3.038255556,
          0.884668519,
          2.957101613,
          1.434801538,
          1.503324528,
          1.359138889,
          1.634125926,
          1.313204615,
          1.138998462,
          1.421458491,
          0.821958696,
          0.586167925,
          0.87477037,
          1.378281538,
          0.949138889,
          0.945477358,
          2.518424444,
          2.409595556,
          0.806101887,
          1.092685185,
          4.076189412,
          0.644837736,
          1.846439623,
          1.919335849,
          3.578286154,
          1.120174074,
          2.339987,
          0.848411321,
          0.672222642,
          2.425466154,
          2.123124444,
          3.428994444,
          1.274086957,
          1.450848288917477,
          0.9294849847745484,
          0.3684951142552958,
          2.315344767701849,
          0.7377661396372941,
          0.2890026311931006,
          0.3836742528113993,
          0.5367188214478608,
          1.1703333589706053,
          0.1439114332093273,
          0.2034277549649314,
          0.820152317842899,
          2.0024548434956158,
          0.2281336512102961,
          0.4414306095504768,
          0.3474509613909771,
          0.2759579239989213,
          0.3438977320329665,
          0.2337369365813098,
          0.2542944655806649,
          0.1885772887223791,
          1.459176004429139,
          0.1975031708645241,
          2.0788481151956955,
          0.2174353849104985,
          0.3870747707435079,
          0.8010342029277102,
          0.9004393776133015,
          0.3097657655298217,
          0.1356887813013247,
          1.657271530625872,
          0.3825366112492496,
          1.7806898751230753,
          1.3495488963761488,
          0.5151745348775167,
          0.2627841587224299,
          0.3738172090501305,
          0.2738715868053881,
          0.2663564232559633,
          0.3189054359133791,
          1.191036668309487,
          0.8485581320385466,
          0.2810014109386969,
          1.984569585369919,
          0.2665151185099296,
          0.513364028073311,
          1.011394157111159
         ],
         "y0": " ",
         "yaxis": "y"
        },
        {
         "alignmentgroup": "True",
         "hovertemplate": "Continent=North America<br>Model=%{x}<br>Loss=%{y}<extra></extra>",
         "legendgroup": "North America",
         "marker": {
          "color": "#FFA15A"
         },
         "name": "North America",
         "notched": false,
         "offsetgroup": "North America",
         "orientation": "v",
         "showlegend": true,
         "type": "box",
         "x": [
          "LSTM",
          "LSTM",
          "LSTM",
          "LSTM",
          "LSTM",
          "LSTM",
          "LSTM",
          "LSTM",
          "LSTM",
          "LSTM",
          "LSTM",
          "LSTM",
          "LSTM",
          "LSTM",
          "LSTM",
          "LSTM",
          "LSTM",
          "LSTM",
          "LSTM",
          "LSTM",
          "LSTM",
          "LSTM",
          "LSTM",
          "LSTM",
          "LSTM",
          "LSTM",
          "LSTM",
          "LSTM",
          "LSTM",
          "LSTM",
          "LSTM",
          "Baseline",
          "Baseline",
          "Baseline",
          "Baseline",
          "Baseline",
          "Baseline",
          "Baseline",
          "Baseline",
          "Baseline",
          "Baseline",
          "Baseline",
          "Baseline",
          "Baseline",
          "Baseline",
          "Baseline",
          "Baseline",
          "Baseline",
          "Baseline",
          "Baseline",
          "Baseline",
          "Baseline",
          "Baseline",
          "Baseline",
          "Baseline",
          "Baseline",
          "Baseline",
          "Baseline",
          "Baseline",
          "Baseline"
         ],
         "x0": " ",
         "xaxis": "x",
         "y": [
          1.288769048,
          1.027569048,
          1.691876829,
          1.368419048,
          11.82159211,
          0.911610588,
          1.077238462,
          0.965636471,
          1.038117857,
          1.282186905,
          1.138995714,
          7.286845882,
          1.164621429,
          1.393446429,
          0.892284337,
          1.078139286,
          1.230584337,
          0.951210714,
          1.358014286,
          0.632787324,
          1.462067857,
          1.370784337,
          1.190022892,
          1.408914286,
          1.296485714,
          1.264202381,
          1.300796429,
          4.200828947,
          1.24345119,
          0.950938554,
          1.344264286,
          0.2363941614807798,
          0.3240427028623452,
          1.7472023767114249,
          0.186045291266136,
          1.0223574473176995,
          5.312622824403537,
          0.9070801004024835,
          0.3289589153559989,
          1.0767878243812727,
          0.2941124911428842,
          0.2173899565570166,
          0.5419025008770642,
          0.3789930343688657,
          4.949835636374464,
          0.1878404426264868,
          0.25093652243802,
          0.5804356826899415,
          0.5198241316237426,
          0.6023105692190563,
          0.5037516259116102,
          0.2173899565570166,
          0.4328146851032502,
          0.2712902654409991,
          0.3330704939082249,
          0.4246013056691636,
          0.3611366881195469,
          0.2363941614807798,
          0.1920826897158613,
          1.079626268364153
         ],
         "y0": " ",
         "yaxis": "y"
        },
        {
         "alignmentgroup": "True",
         "hovertemplate": "Continent=South America<br>Model=%{x}<br>Loss=%{y}<extra></extra>",
         "legendgroup": "South America",
         "marker": {
          "color": "#19d3f3"
         },
         "name": "South America",
         "notched": false,
         "offsetgroup": "South America",
         "orientation": "v",
         "showlegend": true,
         "type": "box",
         "x": [
          "LSTM",
          "LSTM",
          "LSTM",
          "LSTM",
          "LSTM",
          "LSTM",
          "LSTM",
          "LSTM",
          "LSTM",
          "LSTM",
          "LSTM",
          "LSTM",
          "LSTM",
          "LSTM",
          "Baseline",
          "Baseline",
          "Baseline",
          "Baseline",
          "Baseline",
          "Baseline",
          "Baseline",
          "Baseline",
          "Baseline",
          "Baseline",
          "Baseline"
         ],
         "x0": " ",
         "xaxis": "x",
         "y": [
          2.201723404,
          0.685680851,
          0.374465333,
          0.649548936,
          0.174561905,
          0.253488235,
          1.041653659,
          0.482005952,
          0.494608333,
          0.198857447,
          0.3435,
          2.009044,
          0.475180952,
          2.965314667,
          1.2715033138487688,
          0.2310234195916767,
          0.5085598415960754,
          0.3109831528744011,
          0.2865851995470592,
          0.2042697042616575,
          0.2809950568099813,
          3.1987637059188274,
          0.2279624543956996,
          0.2192399482277222,
          2.060616149054252
         ],
         "y0": " ",
         "yaxis": "y"
        }
       ],
       "layout": {
        "boxmode": "group",
        "legend": {
         "title": {
          "text": "Continent"
         },
         "tracegroupgap": 0
        },
        "margin": {
         "t": 60
        },
        "template": {
         "data": {
          "bar": [
           {
            "error_x": {
             "color": "#2a3f5f"
            },
            "error_y": {
             "color": "#2a3f5f"
            },
            "marker": {
             "line": {
              "color": "#E5ECF6",
              "width": 0.5
             },
             "pattern": {
              "fillmode": "overlay",
              "size": 10,
              "solidity": 0.2
             }
            },
            "type": "bar"
           }
          ],
          "barpolar": [
           {
            "marker": {
             "line": {
              "color": "#E5ECF6",
              "width": 0.5
             },
             "pattern": {
              "fillmode": "overlay",
              "size": 10,
              "solidity": 0.2
             }
            },
            "type": "barpolar"
           }
          ],
          "carpet": [
           {
            "aaxis": {
             "endlinecolor": "#2a3f5f",
             "gridcolor": "white",
             "linecolor": "white",
             "minorgridcolor": "white",
             "startlinecolor": "#2a3f5f"
            },
            "baxis": {
             "endlinecolor": "#2a3f5f",
             "gridcolor": "white",
             "linecolor": "white",
             "minorgridcolor": "white",
             "startlinecolor": "#2a3f5f"
            },
            "type": "carpet"
           }
          ],
          "choropleth": [
           {
            "colorbar": {
             "outlinewidth": 0,
             "ticks": ""
            },
            "type": "choropleth"
           }
          ],
          "contour": [
           {
            "colorbar": {
             "outlinewidth": 0,
             "ticks": ""
            },
            "colorscale": [
             [
              0,
              "#0d0887"
             ],
             [
              0.1111111111111111,
              "#46039f"
             ],
             [
              0.2222222222222222,
              "#7201a8"
             ],
             [
              0.3333333333333333,
              "#9c179e"
             ],
             [
              0.4444444444444444,
              "#bd3786"
             ],
             [
              0.5555555555555556,
              "#d8576b"
             ],
             [
              0.6666666666666666,
              "#ed7953"
             ],
             [
              0.7777777777777778,
              "#fb9f3a"
             ],
             [
              0.8888888888888888,
              "#fdca26"
             ],
             [
              1,
              "#f0f921"
             ]
            ],
            "type": "contour"
           }
          ],
          "contourcarpet": [
           {
            "colorbar": {
             "outlinewidth": 0,
             "ticks": ""
            },
            "type": "contourcarpet"
           }
          ],
          "heatmap": [
           {
            "colorbar": {
             "outlinewidth": 0,
             "ticks": ""
            },
            "colorscale": [
             [
              0,
              "#0d0887"
             ],
             [
              0.1111111111111111,
              "#46039f"
             ],
             [
              0.2222222222222222,
              "#7201a8"
             ],
             [
              0.3333333333333333,
              "#9c179e"
             ],
             [
              0.4444444444444444,
              "#bd3786"
             ],
             [
              0.5555555555555556,
              "#d8576b"
             ],
             [
              0.6666666666666666,
              "#ed7953"
             ],
             [
              0.7777777777777778,
              "#fb9f3a"
             ],
             [
              0.8888888888888888,
              "#fdca26"
             ],
             [
              1,
              "#f0f921"
             ]
            ],
            "type": "heatmap"
           }
          ],
          "heatmapgl": [
           {
            "colorbar": {
             "outlinewidth": 0,
             "ticks": ""
            },
            "colorscale": [
             [
              0,
              "#0d0887"
             ],
             [
              0.1111111111111111,
              "#46039f"
             ],
             [
              0.2222222222222222,
              "#7201a8"
             ],
             [
              0.3333333333333333,
              "#9c179e"
             ],
             [
              0.4444444444444444,
              "#bd3786"
             ],
             [
              0.5555555555555556,
              "#d8576b"
             ],
             [
              0.6666666666666666,
              "#ed7953"
             ],
             [
              0.7777777777777778,
              "#fb9f3a"
             ],
             [
              0.8888888888888888,
              "#fdca26"
             ],
             [
              1,
              "#f0f921"
             ]
            ],
            "type": "heatmapgl"
           }
          ],
          "histogram": [
           {
            "marker": {
             "pattern": {
              "fillmode": "overlay",
              "size": 10,
              "solidity": 0.2
             }
            },
            "type": "histogram"
           }
          ],
          "histogram2d": [
           {
            "colorbar": {
             "outlinewidth": 0,
             "ticks": ""
            },
            "colorscale": [
             [
              0,
              "#0d0887"
             ],
             [
              0.1111111111111111,
              "#46039f"
             ],
             [
              0.2222222222222222,
              "#7201a8"
             ],
             [
              0.3333333333333333,
              "#9c179e"
             ],
             [
              0.4444444444444444,
              "#bd3786"
             ],
             [
              0.5555555555555556,
              "#d8576b"
             ],
             [
              0.6666666666666666,
              "#ed7953"
             ],
             [
              0.7777777777777778,
              "#fb9f3a"
             ],
             [
              0.8888888888888888,
              "#fdca26"
             ],
             [
              1,
              "#f0f921"
             ]
            ],
            "type": "histogram2d"
           }
          ],
          "histogram2dcontour": [
           {
            "colorbar": {
             "outlinewidth": 0,
             "ticks": ""
            },
            "colorscale": [
             [
              0,
              "#0d0887"
             ],
             [
              0.1111111111111111,
              "#46039f"
             ],
             [
              0.2222222222222222,
              "#7201a8"
             ],
             [
              0.3333333333333333,
              "#9c179e"
             ],
             [
              0.4444444444444444,
              "#bd3786"
             ],
             [
              0.5555555555555556,
              "#d8576b"
             ],
             [
              0.6666666666666666,
              "#ed7953"
             ],
             [
              0.7777777777777778,
              "#fb9f3a"
             ],
             [
              0.8888888888888888,
              "#fdca26"
             ],
             [
              1,
              "#f0f921"
             ]
            ],
            "type": "histogram2dcontour"
           }
          ],
          "mesh3d": [
           {
            "colorbar": {
             "outlinewidth": 0,
             "ticks": ""
            },
            "type": "mesh3d"
           }
          ],
          "parcoords": [
           {
            "line": {
             "colorbar": {
              "outlinewidth": 0,
              "ticks": ""
             }
            },
            "type": "parcoords"
           }
          ],
          "pie": [
           {
            "automargin": true,
            "type": "pie"
           }
          ],
          "scatter": [
           {
            "marker": {
             "colorbar": {
              "outlinewidth": 0,
              "ticks": ""
             }
            },
            "type": "scatter"
           }
          ],
          "scatter3d": [
           {
            "line": {
             "colorbar": {
              "outlinewidth": 0,
              "ticks": ""
             }
            },
            "marker": {
             "colorbar": {
              "outlinewidth": 0,
              "ticks": ""
             }
            },
            "type": "scatter3d"
           }
          ],
          "scattercarpet": [
           {
            "marker": {
             "colorbar": {
              "outlinewidth": 0,
              "ticks": ""
             }
            },
            "type": "scattercarpet"
           }
          ],
          "scattergeo": [
           {
            "marker": {
             "colorbar": {
              "outlinewidth": 0,
              "ticks": ""
             }
            },
            "type": "scattergeo"
           }
          ],
          "scattergl": [
           {
            "marker": {
             "colorbar": {
              "outlinewidth": 0,
              "ticks": ""
             }
            },
            "type": "scattergl"
           }
          ],
          "scattermapbox": [
           {
            "marker": {
             "colorbar": {
              "outlinewidth": 0,
              "ticks": ""
             }
            },
            "type": "scattermapbox"
           }
          ],
          "scatterpolar": [
           {
            "marker": {
             "colorbar": {
              "outlinewidth": 0,
              "ticks": ""
             }
            },
            "type": "scatterpolar"
           }
          ],
          "scatterpolargl": [
           {
            "marker": {
             "colorbar": {
              "outlinewidth": 0,
              "ticks": ""
             }
            },
            "type": "scatterpolargl"
           }
          ],
          "scatterternary": [
           {
            "marker": {
             "colorbar": {
              "outlinewidth": 0,
              "ticks": ""
             }
            },
            "type": "scatterternary"
           }
          ],
          "surface": [
           {
            "colorbar": {
             "outlinewidth": 0,
             "ticks": ""
            },
            "colorscale": [
             [
              0,
              "#0d0887"
             ],
             [
              0.1111111111111111,
              "#46039f"
             ],
             [
              0.2222222222222222,
              "#7201a8"
             ],
             [
              0.3333333333333333,
              "#9c179e"
             ],
             [
              0.4444444444444444,
              "#bd3786"
             ],
             [
              0.5555555555555556,
              "#d8576b"
             ],
             [
              0.6666666666666666,
              "#ed7953"
             ],
             [
              0.7777777777777778,
              "#fb9f3a"
             ],
             [
              0.8888888888888888,
              "#fdca26"
             ],
             [
              1,
              "#f0f921"
             ]
            ],
            "type": "surface"
           }
          ],
          "table": [
           {
            "cells": {
             "fill": {
              "color": "#EBF0F8"
             },
             "line": {
              "color": "white"
             }
            },
            "header": {
             "fill": {
              "color": "#C8D4E3"
             },
             "line": {
              "color": "white"
             }
            },
            "type": "table"
           }
          ]
         },
         "layout": {
          "annotationdefaults": {
           "arrowcolor": "#2a3f5f",
           "arrowhead": 0,
           "arrowwidth": 1
          },
          "autotypenumbers": "strict",
          "coloraxis": {
           "colorbar": {
            "outlinewidth": 0,
            "ticks": ""
           }
          },
          "colorscale": {
           "diverging": [
            [
             0,
             "#8e0152"
            ],
            [
             0.1,
             "#c51b7d"
            ],
            [
             0.2,
             "#de77ae"
            ],
            [
             0.3,
             "#f1b6da"
            ],
            [
             0.4,
             "#fde0ef"
            ],
            [
             0.5,
             "#f7f7f7"
            ],
            [
             0.6,
             "#e6f5d0"
            ],
            [
             0.7,
             "#b8e186"
            ],
            [
             0.8,
             "#7fbc41"
            ],
            [
             0.9,
             "#4d9221"
            ],
            [
             1,
             "#276419"
            ]
           ],
           "sequential": [
            [
             0,
             "#0d0887"
            ],
            [
             0.1111111111111111,
             "#46039f"
            ],
            [
             0.2222222222222222,
             "#7201a8"
            ],
            [
             0.3333333333333333,
             "#9c179e"
            ],
            [
             0.4444444444444444,
             "#bd3786"
            ],
            [
             0.5555555555555556,
             "#d8576b"
            ],
            [
             0.6666666666666666,
             "#ed7953"
            ],
            [
             0.7777777777777778,
             "#fb9f3a"
            ],
            [
             0.8888888888888888,
             "#fdca26"
            ],
            [
             1,
             "#f0f921"
            ]
           ],
           "sequentialminus": [
            [
             0,
             "#0d0887"
            ],
            [
             0.1111111111111111,
             "#46039f"
            ],
            [
             0.2222222222222222,
             "#7201a8"
            ],
            [
             0.3333333333333333,
             "#9c179e"
            ],
            [
             0.4444444444444444,
             "#bd3786"
            ],
            [
             0.5555555555555556,
             "#d8576b"
            ],
            [
             0.6666666666666666,
             "#ed7953"
            ],
            [
             0.7777777777777778,
             "#fb9f3a"
            ],
            [
             0.8888888888888888,
             "#fdca26"
            ],
            [
             1,
             "#f0f921"
            ]
           ]
          },
          "colorway": [
           "#636efa",
           "#EF553B",
           "#00cc96",
           "#ab63fa",
           "#FFA15A",
           "#19d3f3",
           "#FF6692",
           "#B6E880",
           "#FF97FF",
           "#FECB52"
          ],
          "font": {
           "color": "#2a3f5f"
          },
          "geo": {
           "bgcolor": "white",
           "lakecolor": "white",
           "landcolor": "#E5ECF6",
           "showlakes": true,
           "showland": true,
           "subunitcolor": "white"
          },
          "hoverlabel": {
           "align": "left"
          },
          "hovermode": "closest",
          "mapbox": {
           "style": "light"
          },
          "paper_bgcolor": "white",
          "plot_bgcolor": "#E5ECF6",
          "polar": {
           "angularaxis": {
            "gridcolor": "white",
            "linecolor": "white",
            "ticks": ""
           },
           "bgcolor": "#E5ECF6",
           "radialaxis": {
            "gridcolor": "white",
            "linecolor": "white",
            "ticks": ""
           }
          },
          "scene": {
           "xaxis": {
            "backgroundcolor": "#E5ECF6",
            "gridcolor": "white",
            "gridwidth": 2,
            "linecolor": "white",
            "showbackground": true,
            "ticks": "",
            "zerolinecolor": "white"
           },
           "yaxis": {
            "backgroundcolor": "#E5ECF6",
            "gridcolor": "white",
            "gridwidth": 2,
            "linecolor": "white",
            "showbackground": true,
            "ticks": "",
            "zerolinecolor": "white"
           },
           "zaxis": {
            "backgroundcolor": "#E5ECF6",
            "gridcolor": "white",
            "gridwidth": 2,
            "linecolor": "white",
            "showbackground": true,
            "ticks": "",
            "zerolinecolor": "white"
           }
          },
          "shapedefaults": {
           "line": {
            "color": "#2a3f5f"
           }
          },
          "ternary": {
           "aaxis": {
            "gridcolor": "white",
            "linecolor": "white",
            "ticks": ""
           },
           "baxis": {
            "gridcolor": "white",
            "linecolor": "white",
            "ticks": ""
           },
           "bgcolor": "#E5ECF6",
           "caxis": {
            "gridcolor": "white",
            "linecolor": "white",
            "ticks": ""
           }
          },
          "title": {
           "x": 0.05
          },
          "xaxis": {
           "automargin": true,
           "gridcolor": "white",
           "linecolor": "white",
           "ticks": "",
           "title": {
            "standoff": 15
           },
           "zerolinecolor": "white",
           "zerolinewidth": 2
          },
          "yaxis": {
           "automargin": true,
           "gridcolor": "white",
           "linecolor": "white",
           "ticks": "",
           "title": {
            "standoff": 15
           },
           "zerolinecolor": "white",
           "zerolinewidth": 2
          }
         }
        },
        "xaxis": {
         "anchor": "y",
         "domain": [
          0,
          1
         ],
         "title": {
          "text": "Model"
         }
        },
        "yaxis": {
         "anchor": "x",
         "domain": [
          0,
          1
         ],
         "title": {
          "text": "Loss"
         }
        }
       }
      },
      "text/html": [
       "<div>                            <div id=\"4a6880c6-9f12-41b9-95d1-0fe25248e986\" class=\"plotly-graph-div\" style=\"height:525px; width:100%;\"></div>            <script type=\"text/javascript\">                require([\"plotly\"], function(Plotly) {                    window.PLOTLYENV=window.PLOTLYENV || {};                                    if (document.getElementById(\"4a6880c6-9f12-41b9-95d1-0fe25248e986\")) {                    Plotly.newPlot(                        \"4a6880c6-9f12-41b9-95d1-0fe25248e986\",                        [{\"alignmentgroup\":\"True\",\"hovertemplate\":\"Continent=Asia<br>Model=%{x}<br>Loss=%{y}<extra></extra>\",\"legendgroup\":\"Asia\",\"marker\":{\"color\":\"#636efa\"},\"name\":\"Asia\",\"notched\":false,\"offsetgroup\":\"Asia\",\"orientation\":\"v\",\"showlegend\":true,\"type\":\"box\",\"x\":[\"LSTM\",\"LSTM\",\"LSTM\",\"LSTM\",\"LSTM\",\"LSTM\",\"LSTM\",\"LSTM\",\"LSTM\",\"LSTM\",\"LSTM\",\"LSTM\",\"LSTM\",\"LSTM\",\"LSTM\",\"LSTM\",\"LSTM\",\"LSTM\",\"LSTM\",\"LSTM\",\"LSTM\",\"LSTM\",\"LSTM\",\"LSTM\",\"LSTM\",\"LSTM\",\"LSTM\",\"LSTM\",\"LSTM\",\"LSTM\",\"LSTM\",\"LSTM\",\"LSTM\",\"LSTM\",\"LSTM\",\"LSTM\",\"LSTM\",\"LSTM\",\"LSTM\",\"LSTM\",\"LSTM\",\"LSTM\",\"LSTM\",\"LSTM\",\"LSTM\",\"LSTM\",\"LSTM\",\"Baseline\",\"Baseline\",\"Baseline\",\"Baseline\",\"Baseline\",\"Baseline\",\"Baseline\",\"Baseline\",\"Baseline\",\"Baseline\",\"Baseline\",\"Baseline\",\"Baseline\",\"Baseline\",\"Baseline\",\"Baseline\",\"Baseline\",\"Baseline\",\"Baseline\",\"Baseline\",\"Baseline\",\"Baseline\",\"Baseline\",\"Baseline\",\"Baseline\",\"Baseline\",\"Baseline\",\"Baseline\",\"Baseline\",\"Baseline\",\"Baseline\",\"Baseline\",\"Baseline\",\"Baseline\",\"Baseline\",\"Baseline\",\"Baseline\",\"Baseline\",\"Baseline\",\"Baseline\"],\"x0\":\" \",\"xaxis\":\"x\",\"y\":[3.233552239,4.447586957,2.974222951,1.040130508,1.05536383,2.316753012,1.263269318,0.422656627,1.745703226,4.123815942,1.256201538,1.010457627,3.197447059,3.058983333,2.089509804,1.816842188,2.608782353,8.194586869,3.226749231,4.042074667,1.135217021,1.357153846,8.8735125,5.051875758,3.293869149,1.624863265,2.76397541,1.860490164,0.79256988,1.994603125,2.69657451,1.30735,3.210873973,2.448052128,2.916557143,5.774688889,2.265181967,1.061655422,1.429245455,4.047966667,0.535653012,2.263288235,1.682552542,1.965178689,0.765813253,6.277076667,1.897738983,3.8954312985876896,7.013151618691186,7.512085489505155,1.0619418395006155,0.6945448134908426,0.885136908372947,0.5421087043610435,1.1494407696818738,0.2923594852903342,2.3253439014351343,7.489679246883761,1.354847523556394,0.4844475817745208,0.1191207755256983,2.237279836695302,2.479416770434269,2.521838753049756,2.7504264852056743,2.8558835914719927,11.427898192715856,1.5845728728162096,6.491557234855761,2.9079033462853534,0.1508430528019166,6.241528750731979,0.8011507243385979,0.7228257326246492,1.5406759784644948,0.1676045222201677,0.9110054655734394,0.7022013462611462,0.1724103860049323,0.1594906722652387,5.611191289504343,0.6863933020564439,5.347786020547758,9.572075994713654,0.6960298057950633,10.818383717337328,0.6066259381845363],\"y0\":\" \",\"yaxis\":\"y\"},{\"alignmentgroup\":\"True\",\"hovertemplate\":\"Continent=Europe<br>Model=%{x}<br>Loss=%{y}<extra></extra>\",\"legendgroup\":\"Europe\",\"marker\":{\"color\":\"#EF553B\"},\"name\":\"Europe\",\"notched\":false,\"offsetgroup\":\"Europe\",\"orientation\":\"v\",\"showlegend\":true,\"type\":\"box\",\"x\":[\"LSTM\",\"LSTM\",\"LSTM\",\"LSTM\",\"LSTM\",\"LSTM\",\"LSTM\",\"LSTM\",\"LSTM\",\"LSTM\",\"LSTM\",\"LSTM\",\"LSTM\",\"LSTM\",\"LSTM\",\"LSTM\",\"LSTM\",\"LSTM\",\"LSTM\",\"LSTM\",\"LSTM\",\"LSTM\",\"LSTM\",\"LSTM\",\"LSTM\",\"LSTM\",\"LSTM\",\"LSTM\",\"LSTM\",\"LSTM\",\"LSTM\",\"LSTM\",\"LSTM\",\"LSTM\",\"LSTM\",\"LSTM\",\"LSTM\",\"LSTM\",\"LSTM\",\"LSTM\",\"LSTM\",\"LSTM\",\"LSTM\",\"LSTM\",\"LSTM\",\"Baseline\",\"Baseline\",\"Baseline\",\"Baseline\",\"Baseline\",\"Baseline\",\"Baseline\",\"Baseline\",\"Baseline\",\"Baseline\",\"Baseline\",\"Baseline\",\"Baseline\",\"Baseline\",\"Baseline\",\"Baseline\",\"Baseline\",\"Baseline\",\"Baseline\",\"Baseline\",\"Baseline\",\"Baseline\",\"Baseline\",\"Baseline\",\"Baseline\",\"Baseline\",\"Baseline\",\"Baseline\",\"Baseline\",\"Baseline\",\"Baseline\",\"Baseline\",\"Baseline\",\"Baseline\",\"Baseline\",\"Baseline\",\"Baseline\",\"Baseline\",\"Baseline\",\"Baseline\",\"Baseline\",\"Baseline\"],\"x0\":\" \",\"xaxis\":\"x\",\"y\":[3.444214444,3.359392222,4.565024444,7.097494444,4.515187778,4.383267778,4.913212222,4.209734444,1.87164,6.711701111,4.583254444,3.067511111,2.367126667,4.860483333,2.487313333,1.858761111,3.246538889,2.421323333,6.871971111,4.817693333,6.782147778,4.362728889,4.31076,5.895995556,3.422195556,3.950486667,4.211251111,3.513511111,5.544132222,2.165692941,4.885397778,5.825111111,4.712223333,4.77803,2.705683333,4.302486667,6.106832222,4.105827778,6.826953333,3.58064,2.174636471,3.740678889,4.491044444,5.059076667,2.331315556,4.397558308074823,4.412680098814197,6.297153762437479,11.16752341490068,4.688870903644145,6.80374280459987,6.5681805763088645,4.622215776418517,13.643410984726108,2.431214949343976,19.712224940514467,5.673932960906379,5.492664135499153,4.105089011200558,2.444433991916218,7.497740790687556,4.33799615515979,1.6084707227421309,4.1397462526922215,2.444433991916218,11.68905664653383,7.485949980350876,10.499548310160618,5.981483959102659,1.9436253254092717,4.637691242638156,5.280601151132087,3.898021246876044,5.920756264855468,7.091493603849581,1.857495419577951,7.9612195135585555,4.855248038496522,5.271264900682383,6.858747472149372,6.046485276654599,6.651246194911269,2.5693730594523525,9.496954610973432,7.304575888628936,11.210420798303378,2.1475680624920046],\"y0\":\" \",\"yaxis\":\"y\"},{\"alignmentgroup\":\"True\",\"hovertemplate\":\"Continent=Oceania<br>Model=%{x}<br>Loss=%{y}<extra></extra>\",\"legendgroup\":\"Oceania\",\"marker\":{\"color\":\"#00cc96\"},\"name\":\"Oceania\",\"notched\":false,\"offsetgroup\":\"Oceania\",\"orientation\":\"v\",\"showlegend\":true,\"type\":\"box\",\"x\":[\"LSTM\",\"LSTM\",\"LSTM\",\"LSTM\",\"LSTM\",\"LSTM\",\"LSTM\",\"LSTM\",\"LSTM\",\"LSTM\",\"LSTM\",\"LSTM\",\"LSTM\",\"Baseline\",\"Baseline\",\"Baseline\",\"Baseline\",\"Baseline\",\"Baseline\",\"Baseline\",\"Baseline\",\"Baseline\",\"Baseline\",\"Baseline\",\"Baseline\",\"Baseline\"],\"x0\":\" \",\"xaxis\":\"x\",\"y\":[0.371775758,1.362612,0.480866667,0.600438095,0.887223077,0.711062791,0.834510204,0.538648485,0.215873333,0.358153333,0.355593939,0.481133333,0.648951515,0.4807866093697523,0.8919409302886441,0.5807544868380204,0.2193965139352753,0.3352696158484019,0.5312266042214372,1.0986480488676762,0.7000957984949783,0.0641812832003088,0.1644826762319119,0.4549260178235015,0.1204092096648592,0.6649377024137332],\"y0\":\" \",\"yaxis\":\"y\"},{\"alignmentgroup\":\"True\",\"hovertemplate\":\"Continent=Africa<br>Model=%{x}<br>Loss=%{y}<extra></extra>\",\"legendgroup\":\"Africa\",\"marker\":{\"color\":\"#ab63fa\"},\"name\":\"Africa\",\"notched\":false,\"offsetgroup\":\"Africa\",\"orientation\":\"v\",\"showlegend\":true,\"type\":\"box\",\"x\":[\"LSTM\",\"LSTM\",\"LSTM\",\"LSTM\",\"LSTM\",\"LSTM\",\"LSTM\",\"LSTM\",\"LSTM\",\"LSTM\",\"LSTM\",\"LSTM\",\"LSTM\",\"LSTM\",\"LSTM\",\"LSTM\",\"LSTM\",\"LSTM\",\"LSTM\",\"LSTM\",\"LSTM\",\"LSTM\",\"LSTM\",\"LSTM\",\"LSTM\",\"LSTM\",\"LSTM\",\"LSTM\",\"LSTM\",\"LSTM\",\"LSTM\",\"LSTM\",\"LSTM\",\"LSTM\",\"LSTM\",\"LSTM\",\"LSTM\",\"LSTM\",\"LSTM\",\"LSTM\",\"LSTM\",\"LSTM\",\"LSTM\",\"LSTM\",\"LSTM\",\"LSTM\",\"LSTM\",\"LSTM\",\"LSTM\",\"LSTM\",\"Baseline\",\"Baseline\",\"Baseline\",\"Baseline\",\"Baseline\",\"Baseline\",\"Baseline\",\"Baseline\",\"Baseline\",\"Baseline\",\"Baseline\",\"Baseline\",\"Baseline\",\"Baseline\",\"Baseline\",\"Baseline\",\"Baseline\",\"Baseline\",\"Baseline\",\"Baseline\",\"Baseline\",\"Baseline\",\"Baseline\",\"Baseline\",\"Baseline\",\"Baseline\",\"Baseline\",\"Baseline\",\"Baseline\",\"Baseline\",\"Baseline\",\"Baseline\",\"Baseline\",\"Baseline\",\"Baseline\",\"Baseline\",\"Baseline\",\"Baseline\",\"Baseline\",\"Baseline\",\"Baseline\",\"Baseline\",\"Baseline\",\"Baseline\",\"Baseline\",\"Baseline\",\"Baseline\"],\"x0\":\" \",\"xaxis\":\"x\",\"y\":[1.228668182,1.294983333,2.1499,0.631532075,0.760865217,1.067472222,1.022367391,1.538084783,1.051272308,0.586869811,1.077516667,0.595715217,1.028622222,0.531230435,0.773701852,1.109401852,1.007281481,3.038255556,0.884668519,2.957101613,1.434801538,1.503324528,1.359138889,1.634125926,1.313204615,1.138998462,1.421458491,0.821958696,0.586167925,0.87477037,1.378281538,0.949138889,0.945477358,2.518424444,2.409595556,0.806101887,1.092685185,4.076189412,0.644837736,1.846439623,1.919335849,3.578286154,1.120174074,2.339987,0.848411321,0.672222642,2.425466154,2.123124444,3.428994444,1.274086957,1.450848288917477,0.9294849847745484,0.3684951142552958,2.315344767701849,0.7377661396372941,0.2890026311931006,0.3836742528113993,0.5367188214478608,1.1703333589706053,0.1439114332093273,0.2034277549649314,0.820152317842899,2.0024548434956158,0.2281336512102961,0.4414306095504768,0.3474509613909771,0.2759579239989213,0.3438977320329665,0.2337369365813098,0.2542944655806649,0.1885772887223791,1.459176004429139,0.1975031708645241,2.0788481151956955,0.2174353849104985,0.3870747707435079,0.8010342029277102,0.9004393776133015,0.3097657655298217,0.1356887813013247,1.657271530625872,0.3825366112492496,1.7806898751230753,1.3495488963761488,0.5151745348775167,0.2627841587224299,0.3738172090501305,0.2738715868053881,0.2663564232559633,0.3189054359133791,1.191036668309487,0.8485581320385466,0.2810014109386969,1.984569585369919,0.2665151185099296,0.513364028073311,1.011394157111159],\"y0\":\" \",\"yaxis\":\"y\"},{\"alignmentgroup\":\"True\",\"hovertemplate\":\"Continent=North America<br>Model=%{x}<br>Loss=%{y}<extra></extra>\",\"legendgroup\":\"North America\",\"marker\":{\"color\":\"#FFA15A\"},\"name\":\"North America\",\"notched\":false,\"offsetgroup\":\"North America\",\"orientation\":\"v\",\"showlegend\":true,\"type\":\"box\",\"x\":[\"LSTM\",\"LSTM\",\"LSTM\",\"LSTM\",\"LSTM\",\"LSTM\",\"LSTM\",\"LSTM\",\"LSTM\",\"LSTM\",\"LSTM\",\"LSTM\",\"LSTM\",\"LSTM\",\"LSTM\",\"LSTM\",\"LSTM\",\"LSTM\",\"LSTM\",\"LSTM\",\"LSTM\",\"LSTM\",\"LSTM\",\"LSTM\",\"LSTM\",\"LSTM\",\"LSTM\",\"LSTM\",\"LSTM\",\"LSTM\",\"LSTM\",\"Baseline\",\"Baseline\",\"Baseline\",\"Baseline\",\"Baseline\",\"Baseline\",\"Baseline\",\"Baseline\",\"Baseline\",\"Baseline\",\"Baseline\",\"Baseline\",\"Baseline\",\"Baseline\",\"Baseline\",\"Baseline\",\"Baseline\",\"Baseline\",\"Baseline\",\"Baseline\",\"Baseline\",\"Baseline\",\"Baseline\",\"Baseline\",\"Baseline\",\"Baseline\",\"Baseline\",\"Baseline\",\"Baseline\"],\"x0\":\" \",\"xaxis\":\"x\",\"y\":[1.288769048,1.027569048,1.691876829,1.368419048,11.82159211,0.911610588,1.077238462,0.965636471,1.038117857,1.282186905,1.138995714,7.286845882,1.164621429,1.393446429,0.892284337,1.078139286,1.230584337,0.951210714,1.358014286,0.632787324,1.462067857,1.370784337,1.190022892,1.408914286,1.296485714,1.264202381,1.300796429,4.200828947,1.24345119,0.950938554,1.344264286,0.2363941614807798,0.3240427028623452,1.7472023767114249,0.186045291266136,1.0223574473176995,5.312622824403537,0.9070801004024835,0.3289589153559989,1.0767878243812727,0.2941124911428842,0.2173899565570166,0.5419025008770642,0.3789930343688657,4.949835636374464,0.1878404426264868,0.25093652243802,0.5804356826899415,0.5198241316237426,0.6023105692190563,0.5037516259116102,0.2173899565570166,0.4328146851032502,0.2712902654409991,0.3330704939082249,0.4246013056691636,0.3611366881195469,0.2363941614807798,0.1920826897158613,1.079626268364153],\"y0\":\" \",\"yaxis\":\"y\"},{\"alignmentgroup\":\"True\",\"hovertemplate\":\"Continent=South America<br>Model=%{x}<br>Loss=%{y}<extra></extra>\",\"legendgroup\":\"South America\",\"marker\":{\"color\":\"#19d3f3\"},\"name\":\"South America\",\"notched\":false,\"offsetgroup\":\"South America\",\"orientation\":\"v\",\"showlegend\":true,\"type\":\"box\",\"x\":[\"LSTM\",\"LSTM\",\"LSTM\",\"LSTM\",\"LSTM\",\"LSTM\",\"LSTM\",\"LSTM\",\"LSTM\",\"LSTM\",\"LSTM\",\"LSTM\",\"LSTM\",\"LSTM\",\"Baseline\",\"Baseline\",\"Baseline\",\"Baseline\",\"Baseline\",\"Baseline\",\"Baseline\",\"Baseline\",\"Baseline\",\"Baseline\",\"Baseline\"],\"x0\":\" \",\"xaxis\":\"x\",\"y\":[2.201723404,0.685680851,0.374465333,0.649548936,0.174561905,0.253488235,1.041653659,0.482005952,0.494608333,0.198857447,0.3435,2.009044,0.475180952,2.965314667,1.2715033138487688,0.2310234195916767,0.5085598415960754,0.3109831528744011,0.2865851995470592,0.2042697042616575,0.2809950568099813,3.1987637059188274,0.2279624543956996,0.2192399482277222,2.060616149054252],\"y0\":\" \",\"yaxis\":\"y\"}],                        {\"boxmode\":\"group\",\"legend\":{\"title\":{\"text\":\"Continent\"},\"tracegroupgap\":0},\"margin\":{\"t\":60},\"template\":{\"data\":{\"bar\":[{\"error_x\":{\"color\":\"#2a3f5f\"},\"error_y\":{\"color\":\"#2a3f5f\"},\"marker\":{\"line\":{\"color\":\"#E5ECF6\",\"width\":0.5},\"pattern\":{\"fillmode\":\"overlay\",\"size\":10,\"solidity\":0.2}},\"type\":\"bar\"}],\"barpolar\":[{\"marker\":{\"line\":{\"color\":\"#E5ECF6\",\"width\":0.5},\"pattern\":{\"fillmode\":\"overlay\",\"size\":10,\"solidity\":0.2}},\"type\":\"barpolar\"}],\"carpet\":[{\"aaxis\":{\"endlinecolor\":\"#2a3f5f\",\"gridcolor\":\"white\",\"linecolor\":\"white\",\"minorgridcolor\":\"white\",\"startlinecolor\":\"#2a3f5f\"},\"baxis\":{\"endlinecolor\":\"#2a3f5f\",\"gridcolor\":\"white\",\"linecolor\":\"white\",\"minorgridcolor\":\"white\",\"startlinecolor\":\"#2a3f5f\"},\"type\":\"carpet\"}],\"choropleth\":[{\"colorbar\":{\"outlinewidth\":0,\"ticks\":\"\"},\"type\":\"choropleth\"}],\"contour\":[{\"colorbar\":{\"outlinewidth\":0,\"ticks\":\"\"},\"colorscale\":[[0.0,\"#0d0887\"],[0.1111111111111111,\"#46039f\"],[0.2222222222222222,\"#7201a8\"],[0.3333333333333333,\"#9c179e\"],[0.4444444444444444,\"#bd3786\"],[0.5555555555555556,\"#d8576b\"],[0.6666666666666666,\"#ed7953\"],[0.7777777777777778,\"#fb9f3a\"],[0.8888888888888888,\"#fdca26\"],[1.0,\"#f0f921\"]],\"type\":\"contour\"}],\"contourcarpet\":[{\"colorbar\":{\"outlinewidth\":0,\"ticks\":\"\"},\"type\":\"contourcarpet\"}],\"heatmap\":[{\"colorbar\":{\"outlinewidth\":0,\"ticks\":\"\"},\"colorscale\":[[0.0,\"#0d0887\"],[0.1111111111111111,\"#46039f\"],[0.2222222222222222,\"#7201a8\"],[0.3333333333333333,\"#9c179e\"],[0.4444444444444444,\"#bd3786\"],[0.5555555555555556,\"#d8576b\"],[0.6666666666666666,\"#ed7953\"],[0.7777777777777778,\"#fb9f3a\"],[0.8888888888888888,\"#fdca26\"],[1.0,\"#f0f921\"]],\"type\":\"heatmap\"}],\"heatmapgl\":[{\"colorbar\":{\"outlinewidth\":0,\"ticks\":\"\"},\"colorscale\":[[0.0,\"#0d0887\"],[0.1111111111111111,\"#46039f\"],[0.2222222222222222,\"#7201a8\"],[0.3333333333333333,\"#9c179e\"],[0.4444444444444444,\"#bd3786\"],[0.5555555555555556,\"#d8576b\"],[0.6666666666666666,\"#ed7953\"],[0.7777777777777778,\"#fb9f3a\"],[0.8888888888888888,\"#fdca26\"],[1.0,\"#f0f921\"]],\"type\":\"heatmapgl\"}],\"histogram\":[{\"marker\":{\"pattern\":{\"fillmode\":\"overlay\",\"size\":10,\"solidity\":0.2}},\"type\":\"histogram\"}],\"histogram2d\":[{\"colorbar\":{\"outlinewidth\":0,\"ticks\":\"\"},\"colorscale\":[[0.0,\"#0d0887\"],[0.1111111111111111,\"#46039f\"],[0.2222222222222222,\"#7201a8\"],[0.3333333333333333,\"#9c179e\"],[0.4444444444444444,\"#bd3786\"],[0.5555555555555556,\"#d8576b\"],[0.6666666666666666,\"#ed7953\"],[0.7777777777777778,\"#fb9f3a\"],[0.8888888888888888,\"#fdca26\"],[1.0,\"#f0f921\"]],\"type\":\"histogram2d\"}],\"histogram2dcontour\":[{\"colorbar\":{\"outlinewidth\":0,\"ticks\":\"\"},\"colorscale\":[[0.0,\"#0d0887\"],[0.1111111111111111,\"#46039f\"],[0.2222222222222222,\"#7201a8\"],[0.3333333333333333,\"#9c179e\"],[0.4444444444444444,\"#bd3786\"],[0.5555555555555556,\"#d8576b\"],[0.6666666666666666,\"#ed7953\"],[0.7777777777777778,\"#fb9f3a\"],[0.8888888888888888,\"#fdca26\"],[1.0,\"#f0f921\"]],\"type\":\"histogram2dcontour\"}],\"mesh3d\":[{\"colorbar\":{\"outlinewidth\":0,\"ticks\":\"\"},\"type\":\"mesh3d\"}],\"parcoords\":[{\"line\":{\"colorbar\":{\"outlinewidth\":0,\"ticks\":\"\"}},\"type\":\"parcoords\"}],\"pie\":[{\"automargin\":true,\"type\":\"pie\"}],\"scatter\":[{\"marker\":{\"colorbar\":{\"outlinewidth\":0,\"ticks\":\"\"}},\"type\":\"scatter\"}],\"scatter3d\":[{\"line\":{\"colorbar\":{\"outlinewidth\":0,\"ticks\":\"\"}},\"marker\":{\"colorbar\":{\"outlinewidth\":0,\"ticks\":\"\"}},\"type\":\"scatter3d\"}],\"scattercarpet\":[{\"marker\":{\"colorbar\":{\"outlinewidth\":0,\"ticks\":\"\"}},\"type\":\"scattercarpet\"}],\"scattergeo\":[{\"marker\":{\"colorbar\":{\"outlinewidth\":0,\"ticks\":\"\"}},\"type\":\"scattergeo\"}],\"scattergl\":[{\"marker\":{\"colorbar\":{\"outlinewidth\":0,\"ticks\":\"\"}},\"type\":\"scattergl\"}],\"scattermapbox\":[{\"marker\":{\"colorbar\":{\"outlinewidth\":0,\"ticks\":\"\"}},\"type\":\"scattermapbox\"}],\"scatterpolar\":[{\"marker\":{\"colorbar\":{\"outlinewidth\":0,\"ticks\":\"\"}},\"type\":\"scatterpolar\"}],\"scatterpolargl\":[{\"marker\":{\"colorbar\":{\"outlinewidth\":0,\"ticks\":\"\"}},\"type\":\"scatterpolargl\"}],\"scatterternary\":[{\"marker\":{\"colorbar\":{\"outlinewidth\":0,\"ticks\":\"\"}},\"type\":\"scatterternary\"}],\"surface\":[{\"colorbar\":{\"outlinewidth\":0,\"ticks\":\"\"},\"colorscale\":[[0.0,\"#0d0887\"],[0.1111111111111111,\"#46039f\"],[0.2222222222222222,\"#7201a8\"],[0.3333333333333333,\"#9c179e\"],[0.4444444444444444,\"#bd3786\"],[0.5555555555555556,\"#d8576b\"],[0.6666666666666666,\"#ed7953\"],[0.7777777777777778,\"#fb9f3a\"],[0.8888888888888888,\"#fdca26\"],[1.0,\"#f0f921\"]],\"type\":\"surface\"}],\"table\":[{\"cells\":{\"fill\":{\"color\":\"#EBF0F8\"},\"line\":{\"color\":\"white\"}},\"header\":{\"fill\":{\"color\":\"#C8D4E3\"},\"line\":{\"color\":\"white\"}},\"type\":\"table\"}]},\"layout\":{\"annotationdefaults\":{\"arrowcolor\":\"#2a3f5f\",\"arrowhead\":0,\"arrowwidth\":1},\"autotypenumbers\":\"strict\",\"coloraxis\":{\"colorbar\":{\"outlinewidth\":0,\"ticks\":\"\"}},\"colorscale\":{\"diverging\":[[0,\"#8e0152\"],[0.1,\"#c51b7d\"],[0.2,\"#de77ae\"],[0.3,\"#f1b6da\"],[0.4,\"#fde0ef\"],[0.5,\"#f7f7f7\"],[0.6,\"#e6f5d0\"],[0.7,\"#b8e186\"],[0.8,\"#7fbc41\"],[0.9,\"#4d9221\"],[1,\"#276419\"]],\"sequential\":[[0.0,\"#0d0887\"],[0.1111111111111111,\"#46039f\"],[0.2222222222222222,\"#7201a8\"],[0.3333333333333333,\"#9c179e\"],[0.4444444444444444,\"#bd3786\"],[0.5555555555555556,\"#d8576b\"],[0.6666666666666666,\"#ed7953\"],[0.7777777777777778,\"#fb9f3a\"],[0.8888888888888888,\"#fdca26\"],[1.0,\"#f0f921\"]],\"sequentialminus\":[[0.0,\"#0d0887\"],[0.1111111111111111,\"#46039f\"],[0.2222222222222222,\"#7201a8\"],[0.3333333333333333,\"#9c179e\"],[0.4444444444444444,\"#bd3786\"],[0.5555555555555556,\"#d8576b\"],[0.6666666666666666,\"#ed7953\"],[0.7777777777777778,\"#fb9f3a\"],[0.8888888888888888,\"#fdca26\"],[1.0,\"#f0f921\"]]},\"colorway\":[\"#636efa\",\"#EF553B\",\"#00cc96\",\"#ab63fa\",\"#FFA15A\",\"#19d3f3\",\"#FF6692\",\"#B6E880\",\"#FF97FF\",\"#FECB52\"],\"font\":{\"color\":\"#2a3f5f\"},\"geo\":{\"bgcolor\":\"white\",\"lakecolor\":\"white\",\"landcolor\":\"#E5ECF6\",\"showlakes\":true,\"showland\":true,\"subunitcolor\":\"white\"},\"hoverlabel\":{\"align\":\"left\"},\"hovermode\":\"closest\",\"mapbox\":{\"style\":\"light\"},\"paper_bgcolor\":\"white\",\"plot_bgcolor\":\"#E5ECF6\",\"polar\":{\"angularaxis\":{\"gridcolor\":\"white\",\"linecolor\":\"white\",\"ticks\":\"\"},\"bgcolor\":\"#E5ECF6\",\"radialaxis\":{\"gridcolor\":\"white\",\"linecolor\":\"white\",\"ticks\":\"\"}},\"scene\":{\"xaxis\":{\"backgroundcolor\":\"#E5ECF6\",\"gridcolor\":\"white\",\"gridwidth\":2,\"linecolor\":\"white\",\"showbackground\":true,\"ticks\":\"\",\"zerolinecolor\":\"white\"},\"yaxis\":{\"backgroundcolor\":\"#E5ECF6\",\"gridcolor\":\"white\",\"gridwidth\":2,\"linecolor\":\"white\",\"showbackground\":true,\"ticks\":\"\",\"zerolinecolor\":\"white\"},\"zaxis\":{\"backgroundcolor\":\"#E5ECF6\",\"gridcolor\":\"white\",\"gridwidth\":2,\"linecolor\":\"white\",\"showbackground\":true,\"ticks\":\"\",\"zerolinecolor\":\"white\"}},\"shapedefaults\":{\"line\":{\"color\":\"#2a3f5f\"}},\"ternary\":{\"aaxis\":{\"gridcolor\":\"white\",\"linecolor\":\"white\",\"ticks\":\"\"},\"baxis\":{\"gridcolor\":\"white\",\"linecolor\":\"white\",\"ticks\":\"\"},\"bgcolor\":\"#E5ECF6\",\"caxis\":{\"gridcolor\":\"white\",\"linecolor\":\"white\",\"ticks\":\"\"}},\"title\":{\"x\":0.05},\"xaxis\":{\"automargin\":true,\"gridcolor\":\"white\",\"linecolor\":\"white\",\"ticks\":\"\",\"title\":{\"standoff\":15},\"zerolinecolor\":\"white\",\"zerolinewidth\":2},\"yaxis\":{\"automargin\":true,\"gridcolor\":\"white\",\"linecolor\":\"white\",\"ticks\":\"\",\"title\":{\"standoff\":15},\"zerolinecolor\":\"white\",\"zerolinewidth\":2}}},\"xaxis\":{\"anchor\":\"y\",\"domain\":[0.0,1.0],\"title\":{\"text\":\"Model\"}},\"yaxis\":{\"anchor\":\"x\",\"domain\":[0.0,1.0],\"title\":{\"text\":\"Loss\"}}},                        {\"responsive\": true}                    ).then(function(){\n",
       "                            \n",
       "var gd = document.getElementById('4a6880c6-9f12-41b9-95d1-0fe25248e986');\n",
       "var x = new MutationObserver(function (mutations, observer) {{\n",
       "        var display = window.getComputedStyle(gd).display;\n",
       "        if (!display || display === 'none') {{\n",
       "            console.log([gd, 'removed!']);\n",
       "            Plotly.purge(gd);\n",
       "            observer.disconnect();\n",
       "        }}\n",
       "}});\n",
       "\n",
       "// Listen for the removal of the full notebook cells\n",
       "var notebookContainer = gd.closest('#notebook-container');\n",
       "if (notebookContainer) {{\n",
       "    x.observe(notebookContainer, {childList: true});\n",
       "}}\n",
       "\n",
       "// Listen for the clearing of the current output cell\n",
       "var outputEl = gd.closest('.output');\n",
       "if (outputEl) {{\n",
       "    x.observe(outputEl, {childList: true});\n",
       "}}\n",
       "\n",
       "                        })                };                });            </script>        </div>"
      ]
     },
     "metadata": {},
     "output_type": "display_data"
    }
   ],
   "source": [
    "px.box(df, x='Model', y=\"Loss\", color=\"Continent\")"
   ]
  },
  {
   "cell_type": "code",
   "execution_count": null,
   "id": "64015662",
   "metadata": {},
   "outputs": [],
   "source": []
  }
 ],
 "metadata": {
  "kernelspec": {
   "display_name": "Python [conda env:weather]",
   "language": "python",
   "name": "conda-env-weather-py"
  },
  "language_info": {
   "codemirror_mode": {
    "name": "ipython",
    "version": 3
   },
   "file_extension": ".py",
   "mimetype": "text/x-python",
   "name": "python",
   "nbconvert_exporter": "python",
   "pygments_lexer": "ipython3",
   "version": "3.9.7"
  }
 },
 "nbformat": 4,
 "nbformat_minor": 5
}
