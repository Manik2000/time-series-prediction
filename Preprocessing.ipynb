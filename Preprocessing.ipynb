{
 "cells": [
  {
   "cell_type": "markdown",
   "metadata": {},
   "source": [
    "# EDA"
   ]
  },
  {
   "cell_type": "code",
   "execution_count": 3,
   "metadata": {},
   "outputs": [],
   "source": [
    "import pandas as pd\n",
    "import matplotlib.pyplot as plt\n",
    "import seaborn as sns\n",
    "import numpy as np\n",
    "\n",
    "sns.set_style(\"darkgrid\")"
   ]
  },
  {
   "cell_type": "code",
   "execution_count": 4,
   "metadata": {},
   "outputs": [],
   "source": [
    "df = pd.read_csv(\"GlobalLandTemperaturesByCountry.csv\")"
   ]
  },
  {
   "cell_type": "code",
   "execution_count": 5,
   "metadata": {},
   "outputs": [
    {
     "data": {
      "text/html": [
       "<div>\n",
       "<style scoped>\n",
       "    .dataframe tbody tr th:only-of-type {\n",
       "        vertical-align: middle;\n",
       "    }\n",
       "\n",
       "    .dataframe tbody tr th {\n",
       "        vertical-align: top;\n",
       "    }\n",
       "\n",
       "    .dataframe thead th {\n",
       "        text-align: right;\n",
       "    }\n",
       "</style>\n",
       "<table border=\"1\" class=\"dataframe\">\n",
       "  <thead>\n",
       "    <tr style=\"text-align: right;\">\n",
       "      <th></th>\n",
       "      <th>dt</th>\n",
       "      <th>AverageTemperature</th>\n",
       "      <th>AverageTemperatureUncertainty</th>\n",
       "      <th>Country</th>\n",
       "    </tr>\n",
       "  </thead>\n",
       "  <tbody>\n",
       "    <tr>\n",
       "      <th>0</th>\n",
       "      <td>1743-11-01</td>\n",
       "      <td>4.384</td>\n",
       "      <td>2.294</td>\n",
       "      <td>Åland</td>\n",
       "    </tr>\n",
       "    <tr>\n",
       "      <th>1</th>\n",
       "      <td>1743-12-01</td>\n",
       "      <td>NaN</td>\n",
       "      <td>NaN</td>\n",
       "      <td>Åland</td>\n",
       "    </tr>\n",
       "    <tr>\n",
       "      <th>2</th>\n",
       "      <td>1744-01-01</td>\n",
       "      <td>NaN</td>\n",
       "      <td>NaN</td>\n",
       "      <td>Åland</td>\n",
       "    </tr>\n",
       "    <tr>\n",
       "      <th>3</th>\n",
       "      <td>1744-02-01</td>\n",
       "      <td>NaN</td>\n",
       "      <td>NaN</td>\n",
       "      <td>Åland</td>\n",
       "    </tr>\n",
       "    <tr>\n",
       "      <th>4</th>\n",
       "      <td>1744-03-01</td>\n",
       "      <td>NaN</td>\n",
       "      <td>NaN</td>\n",
       "      <td>Åland</td>\n",
       "    </tr>\n",
       "  </tbody>\n",
       "</table>\n",
       "</div>"
      ],
      "text/plain": [
       "           dt  AverageTemperature  AverageTemperatureUncertainty Country\n",
       "0  1743-11-01               4.384                          2.294   Åland\n",
       "1  1743-12-01                 NaN                            NaN   Åland\n",
       "2  1744-01-01                 NaN                            NaN   Åland\n",
       "3  1744-02-01                 NaN                            NaN   Åland\n",
       "4  1744-03-01                 NaN                            NaN   Åland"
      ]
     },
     "execution_count": 5,
     "metadata": {},
     "output_type": "execute_result"
    }
   ],
   "source": [
    "df.head()"
   ]
  },
  {
   "cell_type": "code",
   "execution_count": 6,
   "metadata": {},
   "outputs": [
    {
     "data": {
      "text/plain": [
       "dt                                   0\n",
       "AverageTemperature               32651\n",
       "AverageTemperatureUncertainty    31912\n",
       "Country                              0\n",
       "dtype: int64"
      ]
     },
     "execution_count": 6,
     "metadata": {},
     "output_type": "execute_result"
    }
   ],
   "source": [
    "df.isna().sum()"
   ]
  },
  {
   "cell_type": "code",
   "execution_count": 7,
   "metadata": {},
   "outputs": [],
   "source": [
    "df1 = df[df[\"dt\"] > \"1900-01-01\"]"
   ]
  },
  {
   "cell_type": "code",
   "execution_count": 8,
   "metadata": {},
   "outputs": [],
   "source": [
    "df[\"year\"] = pd.DatetimeIndex(df['dt']).year"
   ]
  },
  {
   "cell_type": "code",
   "execution_count": 19,
   "metadata": {},
   "outputs": [],
   "source": [
    "new_df = df[np.logical_and(df[\"dt\"] >= \"1900-01-01\",\n",
    "                           df[\"dt\"] < \"2014-01-01\")]"
   ]
  },
  {
   "cell_type": "code",
   "execution_count": 20,
   "metadata": {},
   "outputs": [],
   "source": [
    "def nans(year, df=new_df):\n",
    "    subset = df[df[\"dt\"] >= str(year) + \"-01-01\"]\n",
    "    return subset.isna().sum().max() / len(subset) * 100"
   ]
  },
  {
   "cell_type": "code",
   "execution_count": 21,
   "metadata": {},
   "outputs": [],
   "source": [
    "def nans_2(year, df=new_df):\n",
    "    subset = df[np.logical_and(df[\"dt\"] >= str(year) + \"-01-01\", \n",
    "                               df[\"dt\"] < str(year+1) +\"-01-01\")]\n",
    "    return subset.isna().sum().max() / len(subset) * 100 "
   ]
  },
  {
   "cell_type": "code",
   "execution_count": 22,
   "metadata": {},
   "outputs": [],
   "source": [
    "e1 = np.vectorize(nans)(sorted(new_df[\"year\"].unique()))\n",
    "e2 = np.vectorize(nans_2)(sorted(new_df[\"year\"].unique()))"
   ]
  },
  {
   "cell_type": "code",
   "execution_count": 23,
   "metadata": {},
   "outputs": [
    {
     "data": {
      "image/png": "[encoded data removed]",
      "text/plain": [
       "<Figure size 1080x576 with 2 Axes>"
      ]
     },
     "metadata": {},
     "output_type": "display_data"
    }
   ],
   "source": [
    "fig, ax = plt.subplots(1, 2, figsize=(15, 8))\n",
    "ax[0].plot(new_df[\"year\"].unique(), e1)\n",
    "ax[1].plot(new_df[\"year\"].unique(), e2)\n",
    "plt.show()"
   ]
  },
  {
   "cell_type": "code",
   "execution_count": 106,
   "metadata": {},
   "outputs": [],
   "source": [
    "nany = new_df[new_df.isna().any(axis=1)]"
   ]
  },
  {
   "cell_type": "code",
   "execution_count": 158,
   "metadata": {},
   "outputs": [
    {
     "data": {
      "text/plain": [
       "array(['Antarctica', 'Federated States Of Micronesia', 'French Polynesia',\n",
       "       'French Southern And Antarctic Lands',\n",
       "       'Heard Island And Mcdonald Islands', 'Palau',\n",
       "       'South Georgia And The South Sandwich Isla'], dtype=object)"
      ]
     },
     "execution_count": 158,
     "metadata": {},
     "output_type": "execute_result"
    }
   ],
   "source": [
    "nany[\"Country\"].unique()"
   ]
  },
  {
   "cell_type": "code",
   "execution_count": 111,
   "metadata": {},
   "outputs": [],
   "source": [
    "ttttt = new_df[new_df[\"dt\"] > \"1960-01-01\"]"
   ]
  },
  {
   "cell_type": "code",
   "execution_count": 112,
   "metadata": {},
   "outputs": [],
   "source": [
    "nany_ttttt = ttttt[ttttt.isna().any(axis=1)]"
   ]
  },
  {
   "cell_type": "code",
   "execution_count": 113,
   "metadata": {
    "scrolled": true
   },
   "outputs": [
    {
     "data": {
      "text/plain": [
       "array(['Antarctica'], dtype=object)"
      ]
     },
     "execution_count": 113,
     "metadata": {},
     "output_type": "execute_result"
    }
   ],
   "source": [
    "nany_ttttt[\"Country\"].unique()"
   ]
  },
  {
   "cell_type": "code",
   "execution_count": 120,
   "metadata": {},
   "outputs": [],
   "source": [
    "def count_country(year):\n",
    "    return len(new_df[new_df[\"year\"] == year][\"Country\"].unique())"
   ]
  },
  {
   "cell_type": "code",
   "execution_count": 122,
   "metadata": {},
   "outputs": [
    {
     "data": {
      "image/png": "[encoded data removed]",
      "text/plain": [
       "<Figure size 1080x576 with 1 Axes>"
      ]
     },
     "metadata": {},
     "output_type": "display_data"
    }
   ],
   "source": [
    "fig, ax = plt.subplots(figsize=(15, 8))\n",
    "plt.plot(new_df['year'].unique(), np.vectorize(count_country)(new_df['year'].unique()))\n",
    "plt.show()"
   ]
  },
  {
   "cell_type": "code",
   "execution_count": 94,
   "metadata": {},
   "outputs": [],
   "source": [
    "import pycountry_convert as pc\n",
    "\n",
    "def func(year):\n",
    "    countries = df[df[\"year\"] == year][\"Country\"]\n",
    "    valid = []\n",
    "    for country in countries:\n",
    "        try:\n",
    "            #pc.country_alpha2_to_continent_code(pc.country_name_to_country_alpha2(country))\n",
    "            valid.append(country)\n",
    "        except:\n",
    "            pass\n",
    "    \n",
    "    return set(valid)"
   ]
  },
  {
   "cell_type": "code",
   "execution_count": 95,
   "metadata": {},
   "outputs": [],
   "source": [
    "sety = [func(i) for i in df[\"year\"].unique()]"
   ]
  },
  {
   "cell_type": "code",
   "execution_count": 98,
   "metadata": {},
   "outputs": [
    {
     "name": "stderr",
     "output_type": "stream",
     "text": [
      "C:\\Users\\mikol\\anaconda3\\envs\\weather\\lib\\site-packages\\seaborn\\_decorators.py:36: FutureWarning: Pass the following variables as keyword args: x, y. From version 0.12, the only valid positional argument will be `data`, and passing other arguments without an explicit keyword will result in an error or misinterpretation.\n",
      "  warnings.warn(\n"
     ]
    },
    {
     "name": "stdout",
     "output_type": "stream",
     "text": [
      "set()\n"
     ]
    },
    {
     "data": {
      "image/png": "[encoded data removed]",
      "text/plain": [
       "<Figure size 432x288 with 1 Axes>"
      ]
     },
     "metadata": {},
     "output_type": "display_data"
    }
   ],
   "source": [
    "fallen = np.vectorize(lambda t: len(set().union(*sety) - set().union(*sety[t:])))\n",
    "fallen_name = np.vectorize(lambda t: set().union(*sety)- set().union(*sety[t:]))\n",
    "sns.lineplot(df['year'].unique()[froms:], fallen(np.arange(len(df['year'].unique()))))\n",
    "print(fallen_name(np.arange(len(df['year'].unique())))[-1])"
   ]
  },
  {
   "cell_type": "code",
   "execution_count": 90,
   "metadata": {},
   "outputs": [
    {
     "name": "stdout",
     "output_type": "stream",
     "text": [
      "set() 1903\n"
     ]
    },
    {
     "name": "stderr",
     "output_type": "stream",
     "text": [
      "C:\\Users\\mikol\\anaconda3\\envs\\weather\\lib\\site-packages\\seaborn\\_decorators.py:36: FutureWarning: Pass the following variables as keyword args: x, y. From version 0.12, the only valid positional argument will be `data`, and passing other arguments without an explicit keyword will result in an error or misinterpretation.\n",
      "  warnings.warn(\n"
     ]
    },
    {
     "data": {
      "image/png": "[encoded data removed]",
      "text/plain": [
       "<Figure size 432x288 with 1 Axes>"
      ]
     },
     "metadata": {},
     "output_type": "display_data"
    }
   ],
   "source": [
    "become = np.vectorize(lambda t: len(sety[-1] - sety[t]))\n",
    "become_name = np.vectorize(lambda t: sety[-1] - sety[t])\n",
    "froms = 160\n",
    "sns.lineplot(df['year'].unique()[froms:], become(np.arange(len(df['year'].unique())))[froms:])\n",
    "print(become_name(np.arange(len(df['year'].unique())))[froms], df['year'].unique()[froms])"
   ]
  },
  {
   "cell_type": "code",
   "execution_count": null,
   "metadata": {},
   "outputs": [],
   "source": [
    "for i in new_df[\"Country\"].unique():\n",
    "    subset = new_df[new_df[\"Country\"] == i]\n",
    "    "
   ]
  },
  {
   "cell_type": "code",
   "execution_count": 144,
   "metadata": {},
   "outputs": [
    {
     "data": {
      "text/plain": [
       "dt                               0\n",
       "AverageTemperature               1\n",
       "AverageTemperatureUncertainty    0\n",
       "Country                          0\n",
       "year                             0\n",
       "dtype: int64"
      ]
     },
     "execution_count": 144,
     "metadata": {},
     "output_type": "execute_result"
    }
   ],
   "source": [
    "new_df[new_df[\"dt\"] == max(new_df[\"dt\"])].isna().sum()"
   ]
  },
  {
   "cell_type": "code",
   "execution_count": 145,
   "metadata": {},
   "outputs": [],
   "source": [
    "w = new_df[new_df[\"dt\"] == max(new_df[\"dt\"])]"
   ]
  },
  {
   "cell_type": "code",
   "execution_count": 146,
   "metadata": {},
   "outputs": [
    {
     "data": {
      "text/html": [
       "<div>\n",
       "<style scoped>\n",
       "    .dataframe tbody tr th:only-of-type {\n",
       "        vertical-align: middle;\n",
       "    }\n",
       "\n",
       "    .dataframe tbody tr th {\n",
       "        vertical-align: top;\n",
       "    }\n",
       "\n",
       "    .dataframe thead th {\n",
       "        text-align: right;\n",
       "    }\n",
       "</style>\n",
       "<table border=\"1\" class=\"dataframe\">\n",
       "  <thead>\n",
       "    <tr style=\"text-align: right;\">\n",
       "      <th></th>\n",
       "      <th>dt</th>\n",
       "      <th>AverageTemperature</th>\n",
       "      <th>AverageTemperatureUncertainty</th>\n",
       "      <th>Country</th>\n",
       "      <th>year</th>\n",
       "    </tr>\n",
       "  </thead>\n",
       "  <tbody>\n",
       "    <tr>\n",
       "      <th>23179</th>\n",
       "      <td>2012-12-01</td>\n",
       "      <td>NaN</td>\n",
       "      <td>0.604</td>\n",
       "      <td>Antarctica</td>\n",
       "      <td>2012</td>\n",
       "    </tr>\n",
       "  </tbody>\n",
       "</table>\n",
       "</div>"
      ],
      "text/plain": [
       "               dt  AverageTemperature  AverageTemperatureUncertainty  \\\n",
       "23179  2012-12-01                 NaN                          0.604   \n",
       "\n",
       "          Country  year  \n",
       "23179  Antarctica  2012  "
      ]
     },
     "execution_count": 146,
     "metadata": {},
     "output_type": "execute_result"
    }
   ],
   "source": [
    "w[w.isna().any(axis=1)]"
   ]
  },
  {
   "cell_type": "code",
   "execution_count": 148,
   "metadata": {},
   "outputs": [],
   "source": [
    "z = new_df[new_df[\"Country\"] == \"Antarctica\"]"
   ]
  },
  {
   "cell_type": "code",
   "execution_count": 149,
   "metadata": {},
   "outputs": [
    {
     "data": {
      "text/html": [
       "<div>\n",
       "<style scoped>\n",
       "    .dataframe tbody tr th:only-of-type {\n",
       "        vertical-align: middle;\n",
       "    }\n",
       "\n",
       "    .dataframe tbody tr th {\n",
       "        vertical-align: top;\n",
       "    }\n",
       "\n",
       "    .dataframe thead th {\n",
       "        text-align: right;\n",
       "    }\n",
       "</style>\n",
       "<table border=\"1\" class=\"dataframe\">\n",
       "  <thead>\n",
       "    <tr style=\"text-align: right;\">\n",
       "      <th></th>\n",
       "      <th>dt</th>\n",
       "      <th>AverageTemperature</th>\n",
       "      <th>AverageTemperatureUncertainty</th>\n",
       "      <th>Country</th>\n",
       "      <th>year</th>\n",
       "    </tr>\n",
       "  </thead>\n",
       "  <tbody>\n",
       "    <tr>\n",
       "      <th>22425</th>\n",
       "      <td>1950-02-01</td>\n",
       "      <td>NaN</td>\n",
       "      <td>2.107</td>\n",
       "      <td>Antarctica</td>\n",
       "      <td>1950</td>\n",
       "    </tr>\n",
       "    <tr>\n",
       "      <th>22426</th>\n",
       "      <td>1950-03-01</td>\n",
       "      <td>NaN</td>\n",
       "      <td>2.168</td>\n",
       "      <td>Antarctica</td>\n",
       "      <td>1950</td>\n",
       "    </tr>\n",
       "    <tr>\n",
       "      <th>22427</th>\n",
       "      <td>1950-04-01</td>\n",
       "      <td>NaN</td>\n",
       "      <td>2.197</td>\n",
       "      <td>Antarctica</td>\n",
       "      <td>1950</td>\n",
       "    </tr>\n",
       "    <tr>\n",
       "      <th>22428</th>\n",
       "      <td>1950-05-01</td>\n",
       "      <td>NaN</td>\n",
       "      <td>2.249</td>\n",
       "      <td>Antarctica</td>\n",
       "      <td>1950</td>\n",
       "    </tr>\n",
       "    <tr>\n",
       "      <th>22429</th>\n",
       "      <td>1950-06-01</td>\n",
       "      <td>NaN</td>\n",
       "      <td>2.504</td>\n",
       "      <td>Antarctica</td>\n",
       "      <td>1950</td>\n",
       "    </tr>\n",
       "    <tr>\n",
       "      <th>...</th>\n",
       "      <td>...</td>\n",
       "      <td>...</td>\n",
       "      <td>...</td>\n",
       "      <td>...</td>\n",
       "      <td>...</td>\n",
       "    </tr>\n",
       "    <tr>\n",
       "      <th>23175</th>\n",
       "      <td>2012-08-01</td>\n",
       "      <td>NaN</td>\n",
       "      <td>1.034</td>\n",
       "      <td>Antarctica</td>\n",
       "      <td>2012</td>\n",
       "    </tr>\n",
       "    <tr>\n",
       "      <th>23176</th>\n",
       "      <td>2012-09-01</td>\n",
       "      <td>NaN</td>\n",
       "      <td>0.685</td>\n",
       "      <td>Antarctica</td>\n",
       "      <td>2012</td>\n",
       "    </tr>\n",
       "    <tr>\n",
       "      <th>23177</th>\n",
       "      <td>2012-10-01</td>\n",
       "      <td>NaN</td>\n",
       "      <td>0.983</td>\n",
       "      <td>Antarctica</td>\n",
       "      <td>2012</td>\n",
       "    </tr>\n",
       "    <tr>\n",
       "      <th>23178</th>\n",
       "      <td>2012-11-01</td>\n",
       "      <td>NaN</td>\n",
       "      <td>0.505</td>\n",
       "      <td>Antarctica</td>\n",
       "      <td>2012</td>\n",
       "    </tr>\n",
       "    <tr>\n",
       "      <th>23179</th>\n",
       "      <td>2012-12-01</td>\n",
       "      <td>NaN</td>\n",
       "      <td>0.604</td>\n",
       "      <td>Antarctica</td>\n",
       "      <td>2012</td>\n",
       "    </tr>\n",
       "  </tbody>\n",
       "</table>\n",
       "<p>755 rows × 5 columns</p>\n",
       "</div>"
      ],
      "text/plain": [
       "               dt  AverageTemperature  AverageTemperatureUncertainty  \\\n",
       "22425  1950-02-01                 NaN                          2.107   \n",
       "22426  1950-03-01                 NaN                          2.168   \n",
       "22427  1950-04-01                 NaN                          2.197   \n",
       "22428  1950-05-01                 NaN                          2.249   \n",
       "22429  1950-06-01                 NaN                          2.504   \n",
       "...           ...                 ...                            ...   \n",
       "23175  2012-08-01                 NaN                          1.034   \n",
       "23176  2012-09-01                 NaN                          0.685   \n",
       "23177  2012-10-01                 NaN                          0.983   \n",
       "23178  2012-11-01                 NaN                          0.505   \n",
       "23179  2012-12-01                 NaN                          0.604   \n",
       "\n",
       "          Country  year  \n",
       "22425  Antarctica  1950  \n",
       "22426  Antarctica  1950  \n",
       "22427  Antarctica  1950  \n",
       "22428  Antarctica  1950  \n",
       "22429  Antarctica  1950  \n",
       "...           ...   ...  \n",
       "23175  Antarctica  2012  \n",
       "23176  Antarctica  2012  \n",
       "23177  Antarctica  2012  \n",
       "23178  Antarctica  2012  \n",
       "23179  Antarctica  2012  \n",
       "\n",
       "[755 rows x 5 columns]"
      ]
     },
     "execution_count": 149,
     "metadata": {},
     "output_type": "execute_result"
    }
   ],
   "source": [
    "z[z.isna().any(axis=1)]"
   ]
  },
  {
   "cell_type": "code",
   "execution_count": 150,
   "metadata": {},
   "outputs": [],
   "source": [
    "new_df = new_df[new_df[\"Country\"] != \"Antarctica\"]"
   ]
  },
  {
   "cell_type": "code",
   "execution_count": 168,
   "metadata": {},
   "outputs": [],
   "source": [
    "from copy import deepcopy"
   ]
  },
  {
   "cell_type": "code",
   "execution_count": 169,
   "metadata": {},
   "outputs": [],
   "source": [
    "test = deepcopy(new_df)"
   ]
  },
  {
   "cell_type": "code",
   "execution_count": null,
   "metadata": {},
   "outputs": [],
   "source": [
    "for i in new_df[\"Country\"].unique():\n",
    "    subset = new_df[new_df[\"Country\"] == i]\n",
    "    subset = subset.interpolate().fillna(method=\"bfill\")\n",
    "    new_df[new_df[\"Country\"]==i] = subset "
   ]
  },
  {
   "cell_type": "code",
   "execution_count": 170,
   "metadata": {},
   "outputs": [],
   "source": [
    "for i in test[\"Country\"].unique():\n",
    "    subset = test[new_df[\"Country\"] == i]\n",
    "    subset = subset.interpolate().fillna(method=\"bfill\")\n",
    "    test[test[\"Country\"] == i] = subset "
   ]
  },
  {
   "cell_type": "code",
   "execution_count": 171,
   "metadata": {},
   "outputs": [
    {
     "data": {
      "text/plain": [
       "dt                               0\n",
       "AverageTemperature               0\n",
       "AverageTemperatureUncertainty    0\n",
       "Country                          0\n",
       "year                             0\n",
       "dtype: int64"
      ]
     },
     "execution_count": 171,
     "metadata": {},
     "output_type": "execute_result"
    }
   ],
   "source": [
    "test.isna().sum()"
   ]
  },
  {
   "cell_type": "code",
   "execution_count": 172,
   "metadata": {},
   "outputs": [],
   "source": [
    "test.to_csv(\"final_data.csv\", index=False)"
   ]
  }
 ],
 "metadata": {
  "kernelspec": {
   "display_name": "Python [conda env:weather]",
   "language": "python",
   "name": "conda-env-weather-py"
  },
  "language_info": {
   "codemirror_mode": {
    "name": "ipython",
    "version": 3
   },
   "file_extension": ".py",
   "mimetype": "text/x-python",
   "name": "python",
   "nbconvert_exporter": "python",
   "pygments_lexer": "ipython3",
   "version": "3.9.7"
  }
 },
 "nbformat": 4,
 "nbformat_minor": 4
}
